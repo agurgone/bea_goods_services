{
 "cells": [
  {
   "cell_type": "code",
   "execution_count": 12,
   "metadata": {},
   "outputs": [],
   "source": [
    "import requests\n",
    "import pandas as pd\n",
    "from plotly.subplots import make_subplots\n",
    "import plotly.graph_objs as go"
   ]
  },
  {
   "cell_type": "code",
   "execution_count": 2,
   "metadata": {},
   "outputs": [
    {
     "name": "stdout",
     "output_type": "stream",
     "text": [
      "NIPA\n",
      "NIUnderlyingDetail\n",
      "MNE\n",
      "FixedAssets\n",
      "ITA\n",
      "IIP\n",
      "InputOutput\n",
      "IntlServTrade\n",
      "IntlServSTA\n",
      "GDPbyIndustry\n",
      "Regional\n",
      "UnderlyingGDPbyIndustry\n",
      "APIDatasetMetaData\n"
     ]
    }
   ],
   "source": [
    "parameters = {\n",
    "    \"UserID\": '9452074C-9BA9-4108-B38D-55B924516C1C',\n",
    "    \"Method\": \"GETDATASETLIST\",\n",
    "    \"ResultFormat\": \"JSON\"\n",
    "}\n",
    "response = requests.get('https://apps.bea.gov/api/data/', params=parameters)\n",
    "\n",
    "# Check the status code to ensure the request was successful\n",
    "if response.status_code == 200:\n",
    "    datasets = response.json()[\"BEAAPI\"][\"Results\"][\"Dataset\"]\n",
    "    for dataset in datasets:\n",
    "        print(dataset[\"DatasetName\"])\n",
    "else:\n",
    "    print(\"Error:\", response.status_code)\n"
   ]
  },
  {
   "cell_type": "code",
   "execution_count": 3,
   "metadata": {},
   "outputs": [
    {
     "data": {
      "text/plain": [
       "{'BEAAPI': {'Request': {'RequestParam': [{'ParameterName': 'USERID',\n",
       "     'ParameterValue': '9452074C-9BA9-4108-B38D-55B924516C1C'},\n",
       "    {'ParameterName': 'DATASETNAME', 'ParameterValue': 'NIPA'},\n",
       "    {'ParameterName': 'METHOD', 'ParameterValue': 'GETPARAMETERLIST'},\n",
       "    {'ParameterName': 'RESULTFORMAT', 'ParameterValue': 'JSON'}]},\n",
       "  'Results': {'Parameter': [{'ParameterName': 'Frequency',\n",
       "     'ParameterDataType': 'string',\n",
       "     'ParameterDescription': 'A - Annual, Q-Quarterly, M-Monthly',\n",
       "     'ParameterIsRequiredFlag': '1',\n",
       "     'ParameterDefaultValue': '',\n",
       "     'MultipleAcceptedFlag': '1',\n",
       "     'AllValue': ''},\n",
       "    {'ParameterName': 'ShowMillions',\n",
       "     'ParameterDataType': 'string',\n",
       "     'ParameterDescription': 'A flag indicating that million-dollar data should be returned.',\n",
       "     'ParameterIsRequiredFlag': '0',\n",
       "     'ParameterDefaultValue': 'N',\n",
       "     'MultipleAcceptedFlag': '0',\n",
       "     'AllValue': ''},\n",
       "    {'ParameterName': 'TableID',\n",
       "     'ParameterDataType': 'integer',\n",
       "     'ParameterDescription': 'The standard NIPA table identifier',\n",
       "     'ParameterIsRequiredFlag': '0',\n",
       "     'MultipleAcceptedFlag': '0',\n",
       "     'AllValue': ''},\n",
       "    {'ParameterName': 'TableName',\n",
       "     'ParameterDataType': 'string',\n",
       "     'ParameterDescription': 'The new NIPA table identifier',\n",
       "     'ParameterIsRequiredFlag': '0',\n",
       "     'MultipleAcceptedFlag': '0',\n",
       "     'AllValue': ''},\n",
       "    {'ParameterName': 'Year',\n",
       "     'ParameterDataType': 'integer',\n",
       "     'ParameterDescription': 'List of year(s) of data to retrieve (X for All)',\n",
       "     'ParameterIsRequiredFlag': '1',\n",
       "     'ParameterDefaultValue': '',\n",
       "     'MultipleAcceptedFlag': '1',\n",
       "     'AllValue': 'X'}]}}}"
      ]
     },
     "execution_count": 3,
     "metadata": {},
     "output_type": "execute_result"
    }
   ],
   "source": [
    "parameters = {\n",
    "    \"UserID\": '9452074C-9BA9-4108-B38D-55B924516C1C',\n",
    "    \"Datasetname\": \"NIPA\",\n",
    "    \"Method\": \"GetParameterList\",\n",
    "    \"ResultFormat\": \"JSON\"\n",
    "}\n",
    "response = requests.get('https://apps.bea.gov/api/data', params=parameters)\n",
    "\n",
    "response.json()"
   ]
  },
  {
   "cell_type": "code",
   "execution_count": 4,
   "metadata": {},
   "outputs": [
    {
     "data": {
      "text/plain": [
       "{'ParamValue': [{'TableName': 'T10101',\n",
       "   'Description': 'Table 1.1.1. Percent Change From Preceding Period in Real Gross Domestic Product (A) (Q)'},\n",
       "  {'TableName': 'T10102',\n",
       "   'Description': 'Table 1.1.2. Contributions to Percent Change in Real Gross Domestic Product (A) (Q)'},\n",
       "  {'TableName': 'T10103',\n",
       "   'Description': 'Table 1.1.3. Real Gross Domestic Product, Quantity Indexes (A) (Q)'},\n",
       "  {'TableName': 'T10104',\n",
       "   'Description': 'Table 1.1.4. Price Indexes for Gross Domestic Product (A) (Q)'},\n",
       "  {'TableName': 'T10105',\n",
       "   'Description': 'Table 1.1.5. Gross Domestic Product (A) (Q)'},\n",
       "  {'TableName': 'T10106',\n",
       "   'Description': 'Table 1.1.6. Real Gross Domestic Product, Chained Dollars (A) (Q)'},\n",
       "  {'TableName': 'T10107',\n",
       "   'Description': 'Table 1.1.7. Percent Change From Preceding Period in Prices for Gross Domestic Product (A) (Q)'},\n",
       "  {'TableName': 'T10108',\n",
       "   'Description': 'Table 1.1.8. Contributions to Percent Change in the Gross Domestic Product Price Index (A) (Q)'},\n",
       "  {'TableName': 'T10109',\n",
       "   'Description': 'Table 1.1.9. Implicit Price Deflators for Gross Domestic Product (A) (Q)'},\n",
       "  {'TableName': 'T10110',\n",
       "   'Description': 'Table 1.1.10. Percentage Shares of Gross Domestic Product (A) (Q)'},\n",
       "  {'TableName': 'T10111',\n",
       "   'Description': 'Table 1.1.11. Real Gross Domestic Product: Percent Change From Quarter One Year Ago (Q)'},\n",
       "  {'TableName': 'T10201',\n",
       "   'Description': 'Table 1.2.1. Percent Change From Preceding Period in Real Gross Domestic Product by Major Type of Product (A) (Q)'},\n",
       "  {'TableName': 'T10202',\n",
       "   'Description': 'Table 1.2.2. Contributions to Percent Change in Real Gross Domestic Product by Major Type of Product (A) (Q)'},\n",
       "  {'TableName': 'T10203',\n",
       "   'Description': 'Table 1.2.3. Real Gross Domestic Product by Major Type of Product, Quantity Indexes (A) (Q)'},\n",
       "  {'TableName': 'T10204',\n",
       "   'Description': 'Table 1.2.4. Price Indexes for Gross Domestic Product by Major Type of Product (A) (Q)'},\n",
       "  {'TableName': 'T10205',\n",
       "   'Description': 'Table 1.2.5. Gross Domestic Product by Major Type of Product (A) (Q)'},\n",
       "  {'TableName': 'T10206',\n",
       "   'Description': 'Table 1.2.6. Real Gross Domestic Product by Major Type of Product, Chained Dollars (A) (Q)'},\n",
       "  {'TableName': 'T10301',\n",
       "   'Description': 'Table 1.3.1. Percent Change From Preceding Period in Real Gross Value Added by Sector (A) (Q)'},\n",
       "  {'TableName': 'T10303',\n",
       "   'Description': 'Table 1.3.3. Real Gross Value Added by Sector, Quantity Indexes (A) (Q)'},\n",
       "  {'TableName': 'T10304',\n",
       "   'Description': 'Table 1.3.4. Price Indexes for Gross Value Added by Sector (A) (Q)'},\n",
       "  {'TableName': 'T10305',\n",
       "   'Description': 'Table 1.3.5. Gross Value Added by Sector (A) (Q)'},\n",
       "  {'TableName': 'T10306',\n",
       "   'Description': 'Table 1.3.6. Real Gross Value Added by Sector, Chained Dollars (A) (Q)'},\n",
       "  {'TableName': 'T10401',\n",
       "   'Description': 'Table 1.4.1. Percent Change From Preceding Period in Real Gross Domestic Product, Real Gross Domestic Purchases, and Real Final Sales to Domestic Purchasers (A) (Q)'},\n",
       "  {'TableName': 'T10403',\n",
       "   'Description': 'Table 1.4.3. Real Gross Domestic Product, Real Gross Domestic Purchases, and Real Final Sales to Domestic Purchasers, Quantity Indexes (A) (Q)'},\n",
       "  {'TableName': 'T10404',\n",
       "   'Description': 'Table 1.4.4. Price Indexes for Gross Domestic Product, Gross Domestic Purchases, and Final Sales to Domestic Purchasers (A) (Q)'},\n",
       "  {'TableName': 'T10405',\n",
       "   'Description': 'Table 1.4.5. Relation of Gross Domestic Product, Gross Domestic Purchases, and Final Sales to Domestic Purchasers (A) (Q)'},\n",
       "  {'TableName': 'T10406',\n",
       "   'Description': 'Table 1.4.6. Relation of Real Gross Domestic Product, Real Gross Domestic Purchases, and Real Final Sales to Domestic Purchasers, Chained Dollars (A) (Q)'},\n",
       "  {'TableName': 'T10501',\n",
       "   'Description': 'Table 1.5.1. Percent Change From Preceding Period in Real Gross Domestic Product, Expanded Detail (A) (Q)'},\n",
       "  {'TableName': 'T10502',\n",
       "   'Description': 'Table 1.5.2. Contributions to Percent Change in Real Gross Domestic Product, Expanded Detail (A) (Q)'},\n",
       "  {'TableName': 'T10503',\n",
       "   'Description': 'Table 1.5.3. Real Gross Domestic Product, Expanded Detail, Quantity Indexes (A) (Q)'},\n",
       "  {'TableName': 'T10504',\n",
       "   'Description': 'Table 1.5.4. Price Indexes for Gross Domestic Product, Expanded Detail (A) (Q)'},\n",
       "  {'TableName': 'T10505',\n",
       "   'Description': 'Table 1.5.5. Gross Domestic Product, Expanded Detail (A) (Q)'},\n",
       "  {'TableName': 'T10506',\n",
       "   'Description': 'Table 1.5.6. Real Gross Domestic Product, Expanded Detail, Chained Dollars (A) (Q)'},\n",
       "  {'TableName': 'T10604',\n",
       "   'Description': 'Table 1.6.4. Price Indexes for Gross Domestic Purchases (A) (Q)'},\n",
       "  {'TableName': 'T10607',\n",
       "   'Description': 'Table 1.6.7. Percent Change From Preceding Period in Prices for Gross Domestic Purchases (A) (Q)'},\n",
       "  {'TableName': 'T10608',\n",
       "   'Description': 'Table 1.6.8. Contributions to Percent Change in the Gross Domestic Purchases Price Index (A) (Q)'},\n",
       "  {'TableName': 'T10701',\n",
       "   'Description': 'Table 1.7.1. Percent Change From Preceding Period in Real Gross Domestic Product, Real Gross National Product, and Real Net National Product (A) (Q)'},\n",
       "  {'TableName': 'T10703',\n",
       "   'Description': 'Table 1.7.3. Real Gross Domestic Product, Real Gross National Product, and Real Net National Product, Quantity Indexes (A) (Q)'},\n",
       "  {'TableName': 'T10704',\n",
       "   'Description': 'Table 1.7.4. Price Indexes for Gross Domestic Product, Gross National Product, and Net National Product (A) (Q)'},\n",
       "  {'TableName': 'T10705',\n",
       "   'Description': 'Table 1.7.5. Relation of Gross Domestic Product, Gross National Product, Net National Product, National Income, and Personal Income (A) (Q)'},\n",
       "  {'TableName': 'T10706',\n",
       "   'Description': 'Table 1.7.6. Relation of Real Gross Domestic Product, Real Gross National Product, and Real Net National Product, Chained Dollars (A) (Q)'},\n",
       "  {'TableName': 'T10803',\n",
       "   'Description': 'Table 1.8.3. Command-Basis Real Gross Domestic Product and Gross National Product, Quantity Indexes (A) (Q)'},\n",
       "  {'TableName': 'T10806',\n",
       "   'Description': 'Table 1.8.6. Command-Basis Real Gross Domestic Product and Gross National Product, Chained Dollars (A) (Q)'},\n",
       "  {'TableName': 'T10903',\n",
       "   'Description': 'Table 1.9.3. Real Net Value Added by Sector, Quantity Indexes (A)'},\n",
       "  {'TableName': 'T10904',\n",
       "   'Description': 'Table 1.9.4. Price Indexes for Net Value Added by Sector (A)'},\n",
       "  {'TableName': 'T10905',\n",
       "   'Description': 'Table 1.9.5. Net Value Added by Sector (A)'},\n",
       "  {'TableName': 'T10906',\n",
       "   'Description': 'Table 1.9.6. Real Net Value Added by Sector, Chained Dollars (A)'},\n",
       "  {'TableName': 'T11000',\n",
       "   'Description': 'Table 1.10. Gross Domestic Income by Type of Income (A) (Q)'},\n",
       "  {'TableName': 'T11100',\n",
       "   'Description': 'Table 1.11. Percentage Shares of Gross Domestic Income (A)'},\n",
       "  {'TableName': 'T11200',\n",
       "   'Description': 'Table 1.12. National Income by Type of Income (A) (Q)'},\n",
       "  {'TableName': 'T11300',\n",
       "   'Description': 'Table 1.13. National Income by Sector, Legal Form of Organization, and Type of Income (A)'},\n",
       "  {'TableName': 'T11400',\n",
       "   'Description': 'Table 1.14. Gross Value Added of Domestic Corporate Business in Current Dollars and Gross Value Added of Nonfinancial Domestic Corporate Business in Current and Chained Dollars (A) (Q)'},\n",
       "  {'TableName': 'T11500',\n",
       "   'Description': 'Table 1.15. Price, Costs, and Profit Per Unit of Real Gross Value Added of Nonfinancial Domestic Corporate Business (A) (Q)'},\n",
       "  {'TableName': 'T11600',\n",
       "   'Description': 'Table 1.16. Sources and Uses of Private Enterprise Income (A)'},\n",
       "  {'TableName': 'T11701',\n",
       "   'Description': 'Table 1.17.1. Percent Change From Preceding Period in Real Gross Domestic Product, Real Gross Domestic Income, and Other Major NIPA Aggregates (A) (Q)'},\n",
       "  {'TableName': 'T11705',\n",
       "   'Description': 'Table 1.17.5. Gross Domestic Product, Gross Domestic Income, and Other Major NIPA Aggregates (A) (Q)'},\n",
       "  {'TableName': 'T11706',\n",
       "   'Description': 'Table 1.17.6. Real Gross Domestic Product, Real Gross Domestic Income, and Other Major NIPA Aggregates, Chained Dollars (A) (Q)'},\n",
       "  {'TableName': 'T20100',\n",
       "   'Description': 'Table 2.1. Personal Income and Its Disposition (A) (Q)'},\n",
       "  {'TableName': 'T20200A',\n",
       "   'Description': 'Table 2.2A. Wages and Salaries by Industry (A) (Q)'},\n",
       "  {'TableName': 'T20200B',\n",
       "   'Description': 'Table 2.2B. Wages and Salaries by Industry (A) (Q)'},\n",
       "  {'TableName': 'T20301',\n",
       "   'Description': 'Table 2.3.1. Percent Change From Preceding Period in Real Personal Consumption Expenditures by Major Type of Product (A) (Q)'},\n",
       "  {'TableName': 'T20302',\n",
       "   'Description': 'Table 2.3.2. Contributions to Percent Change in Real Personal Consumption Expenditures by Major Type of Product (A) (Q)'},\n",
       "  {'TableName': 'T20303',\n",
       "   'Description': 'Table 2.3.3. Real Personal Consumption Expenditures by Major Type of Product, Quantity Indexes (A) (Q)'},\n",
       "  {'TableName': 'T20304',\n",
       "   'Description': 'Table 2.3.4. Price Indexes for Personal Consumption Expenditures by Major Type of Product (A) (Q)'},\n",
       "  {'TableName': 'T20305',\n",
       "   'Description': 'Table 2.3.5. Personal Consumption Expenditures by Major Type of Product (A) (Q)'},\n",
       "  {'TableName': 'T20306',\n",
       "   'Description': 'Table 2.3.6. Real Personal Consumption Expenditures by Major Type of Product, Chained Dollars (A) (Q)'},\n",
       "  {'TableName': 'T20307',\n",
       "   'Description': 'Table 2.3.7. Percent Change From Preceding Period in Prices for Personal Consumption Expenditures by Major Type of Product (A) (Q)'},\n",
       "  {'TableName': 'T20308',\n",
       "   'Description': 'Table 2.3.8. Contributions to Percent Change in Prices for Personal Consumption Expenditures by Major Type of Product (A) (Q)'},\n",
       "  {'TableName': 'T20311',\n",
       "   'Description': 'Table 2.3.11. Real Personal Consumption Expenditures by Major Type of Product: Percent Change from Quarter One Year Ago (Q)'},\n",
       "  {'TableName': 'T20401',\n",
       "   'Description': 'Table 2.4.1. Percent Change From Preceding Period in Real Personal Consumption Expenditures by Type of Product (A) (Q)'},\n",
       "  {'TableName': 'T20402',\n",
       "   'Description': 'Table 2.4.2. Contributions to Percent Change in Real Personal Consumption Expenditures by Type of Product (A) (Q)'},\n",
       "  {'TableName': 'T20403',\n",
       "   'Description': 'Table 2.4.3. Real Personal Consumption Expenditures by Type of Product, Quantity Indexes (A) (Q)'},\n",
       "  {'TableName': 'T20404',\n",
       "   'Description': 'Table 2.4.4. Price Indexes for Personal Consumption Expenditures by Type of Product (A) (Q)'},\n",
       "  {'TableName': 'T20405',\n",
       "   'Description': 'Table 2.4.5. Personal Consumption Expenditures by Type of Product (A) (Q)'},\n",
       "  {'TableName': 'T20406',\n",
       "   'Description': 'Table 2.4.6. Real Personal Consumption Expenditures by Type of Product, Chained Dollars (A) (Q)'},\n",
       "  {'TableName': 'T20407',\n",
       "   'Description': 'Table 2.4.7. Percent Change From Preceding Period in Prices for Personal Consumption Expenditures by Type of Product (A) (Q)'},\n",
       "  {'TableName': 'T20408',\n",
       "   'Description': 'Table 2.4.8. Contributions to Percent Change in Prices for Personal Consumption Expenditures by Type of Product (A) (Q)'},\n",
       "  {'TableName': 'T20503',\n",
       "   'Description': 'Table 2.5.3. Real Personal Consumption Expenditures by Function, Quantity Indexes (A)'},\n",
       "  {'TableName': 'T20504',\n",
       "   'Description': 'Table 2.5.4. Price Indexes for Personal Consumption Expenditures by Function (A)'},\n",
       "  {'TableName': 'T20505',\n",
       "   'Description': 'Table 2.5.5. Personal Consumption Expenditures by Function (A)'},\n",
       "  {'TableName': 'T20506',\n",
       "   'Description': 'Table 2.5.6. Real Personal Consumption Expenditures by Function, Chained Dollars (A)'},\n",
       "  {'TableName': 'T20600',\n",
       "   'Description': 'Table 2.6. Personal Income and Its Disposition, Monthly (M)'},\n",
       "  {'TableName': 'T20700A',\n",
       "   'Description': 'Table 2.7A. Wages and Salaries by Industry, Monthly (M)'},\n",
       "  {'TableName': 'T20700B',\n",
       "   'Description': 'Table 2.7B. Wages and Salaries by Industry, Monthly (M)'},\n",
       "  {'TableName': 'T20801',\n",
       "   'Description': 'Table 2.8.1. Percent Change From Preceding Period in Real Personal Consumption Expenditures by Major Type of Product, Monthly (M)'},\n",
       "  {'TableName': 'T20802',\n",
       "   'Description': 'Table 2.8.2. Contributions to Percent Change in Real Personal Consumption Expenditures by Major Type of Product, Monthly (M)'},\n",
       "  {'TableName': 'T20803',\n",
       "   'Description': 'Table 2.8.3. Real Personal Consumption Expenditures by Major Type of Product, Monthly, Quantity Indexes (M)'},\n",
       "  {'TableName': 'T20804',\n",
       "   'Description': 'Table 2.8.4. Price Indexes for Personal Consumption Expenditures by Major Type of Product, Monthly (M)'},\n",
       "  {'TableName': 'T20805',\n",
       "   'Description': 'Table 2.8.5. Personal Consumption Expenditures by Major Type of Product, Monthly (M)'},\n",
       "  {'TableName': 'T20806',\n",
       "   'Description': 'Table 2.8.6. Real Personal Consumption Expenditures by Major Type of Product, Monthly, Chained Dollars (M)'},\n",
       "  {'TableName': 'T20807',\n",
       "   'Description': 'Table 2.8.7. Percent Change From Preceding Period in Prices for Personal Consumption Expenditures by Major Type of Product, Monthly (M)'},\n",
       "  {'TableName': 'T20808',\n",
       "   'Description': 'Table 2.8.8. Contributions to Percent Change in Prices for Personal Consumption Expenditures by Major Type of Product, Monthly (M)'},\n",
       "  {'TableName': 'T20811',\n",
       "   'Description': 'Table 2.8.11. Real Personal Consumption Expenditures by Major Type of Product: Percent Change from Month One Year Ago (M)'},\n",
       "  {'TableName': 'T30100',\n",
       "   'Description': 'Table 3.1. Government Current Receipts and Expenditures (A) (Q)'},\n",
       "  {'TableName': 'T30200',\n",
       "   'Description': 'Table 3.2. Federal Government Current Receipts and Expenditures (A) (Q)'},\n",
       "  {'TableName': 'T30300',\n",
       "   'Description': 'Table 3.3. State and Local Government Current Receipts and Expenditures (A) (Q)'},\n",
       "  {'TableName': 'T30400',\n",
       "   'Description': 'Table 3.4. Personal Current Tax Receipts (A)'},\n",
       "  {'TableName': 'T30500',\n",
       "   'Description': 'Table 3.5. Taxes on Production and Imports (A)'},\n",
       "  {'TableName': 'T30600',\n",
       "   'Description': 'Table 3.6. Contributions for Government Social Insurance (A)'},\n",
       "  {'TableName': 'T30700',\n",
       "   'Description': 'Table 3.7. Government Current Transfer Receipts (A)'},\n",
       "  {'TableName': 'T30800',\n",
       "   'Description': 'Table 3.8. Current Surplus of Government Enterprises (A)'},\n",
       "  {'TableName': 'T30901',\n",
       "   'Description': 'Table 3.9.1. Percent Change From Preceding Period in Real Government Consumption Expenditures and Gross Investment (A) (Q)'},\n",
       "  {'TableName': 'T30902',\n",
       "   'Description': 'Table 3.9.2. Contributions to Percent Change in Real Government Consumption Expenditures and Gross Investment (A) (Q)'},\n",
       "  {'TableName': 'T30903',\n",
       "   'Description': 'Table 3.9.3. Real Government Consumption Expenditures and Gross Investment, Quantity Indexes (A) (Q)'},\n",
       "  {'TableName': 'T30904',\n",
       "   'Description': 'Table 3.9.4. Price Indexes for Government Consumption Expenditures and Gross Investment (A) (Q)'},\n",
       "  {'TableName': 'T30905',\n",
       "   'Description': 'Table 3.9.5. Government Consumption Expenditures and Gross Investment (A) (Q)'},\n",
       "  {'TableName': 'T30906',\n",
       "   'Description': 'Table 3.9.6. Real Government Consumption Expenditures and Gross Investment, Chained Dollars (A) (Q)'},\n",
       "  {'TableName': 'T31001',\n",
       "   'Description': 'Table 3.10.1. Percent Change From Preceding Period in Real Government Consumption Expenditures and General Government Gross Output (A) (Q)'},\n",
       "  {'TableName': 'T31003',\n",
       "   'Description': 'Table 3.10.3. Real Government Consumption Expenditures and General Government Gross Output, Quantity Indexes (A) (Q)'},\n",
       "  {'TableName': 'T31004',\n",
       "   'Description': 'Table 3.10.4. Price Indexes for Government Consumption Expenditures and General Government Gross Output (A) (Q)'},\n",
       "  {'TableName': 'T31005',\n",
       "   'Description': 'Table 3.10.5. Government Consumption Expenditures and General Government Gross Output (A) (Q)'},\n",
       "  {'TableName': 'T31006',\n",
       "   'Description': 'Table 3.10.6. Real Government Consumption Expenditures and General Government Gross Output, Chained Dollars (A) (Q)'},\n",
       "  {'TableName': 'T31101',\n",
       "   'Description': 'Table 3.11.1. Percent Change From Preceding Period in Real National Defense Consumption Expenditures and Gross Investment by Type (A) (Q)'},\n",
       "  {'TableName': 'T31102',\n",
       "   'Description': 'Table 3.11.2. Contributions to Percent Change in National Defense Consumption Expenditures and Gross Investment by Type (A) (Q)'},\n",
       "  {'TableName': 'T31103',\n",
       "   'Description': 'Table 3.11.3. Real National Defense Consumption Expenditures and Gross Investment by Type, Quantity Indexes (A) (Q)'},\n",
       "  {'TableName': 'T31104',\n",
       "   'Description': 'Table 3.11.4. Price Indexes for National Defense Consumption Expenditures and Gross Investment by Type (A) (Q)'},\n",
       "  {'TableName': 'T31105',\n",
       "   'Description': 'Table 3.11.5. National Defense Consumption Expenditures and Gross Investment by Type (A) (Q)'},\n",
       "  {'TableName': 'T31106',\n",
       "   'Description': 'Table 3.11.6. Real National Defense Consumption Expenditures and Gross Investment by Type, Chained Dollars (A) (Q)'},\n",
       "  {'TableName': 'T31200',\n",
       "   'Description': 'Table 3.12. Government Social Benefits (A)'},\n",
       "  {'TableName': 'T31300', 'Description': 'Table 3.13. Subsidies (A)'},\n",
       "  {'TableName': 'T31400',\n",
       "   'Description': 'Table 3.14. Government Social Insurance Funds Current Receipts and Expenditures (A)'},\n",
       "  {'TableName': 'T40100',\n",
       "   'Description': 'Table 4.1. Foreign Transactions in the National Income and Product Accounts (A) (Q)'},\n",
       "  {'TableName': 'T40201',\n",
       "   'Description': 'Table 4.2.1. Percent Change From Preceding Period in Real Exports and in Real Imports of Goods and Services by Type of Product (A) (Q)'},\n",
       "  {'TableName': 'T40202',\n",
       "   'Description': 'Table 4.2.2. Contributions to Percent Change in Real Exports and Real Imports of Goods and Services by Type of Product (A) (Q)'},\n",
       "  {'TableName': 'T40203A',\n",
       "   'Description': 'Table 4.2.3A. Real Exports and Imports of Goods and Services by Type of Product, Quantity Indexes (A) (Q)'},\n",
       "  {'TableName': 'T40203B',\n",
       "   'Description': 'Table 4.2.3B. Real Exports and Imports of Goods and Services by Type of Product, Quantity Indexes (A) (Q)'},\n",
       "  {'TableName': 'T40204A',\n",
       "   'Description': 'Table 4.2.4A. Price Indexes for Exports and Imports of Goods and Services by Type of Product (A) (Q)'},\n",
       "  {'TableName': 'T40204B',\n",
       "   'Description': 'Table 4.2.4B. Price Indexes for Exports and Imports of Goods and Services by Type of Product (A) (Q)'},\n",
       "  {'TableName': 'T40205A',\n",
       "   'Description': 'Table 4.2.5A. Exports and Imports of Goods and Services by Type of Product (A) (Q)'},\n",
       "  {'TableName': 'T40205B',\n",
       "   'Description': 'Table 4.2.5B. Exports and Imports of Goods and Services by Type of Product (A) (Q)'},\n",
       "  {'TableName': 'T40206B',\n",
       "   'Description': 'Table 4.2.6B. Real Exports and Imports of Goods and Services by Type of Product, Chained Dollars (A) (Q)'},\n",
       "  {'TableName': 'T4030A',\n",
       "   'Description': 'Table 4.3A. Relation of Foreign Transactions in the National Income and Product Accounts to the Corresponding Items in the International Transactions Accounts (A)'},\n",
       "  {'TableName': 'T4030B',\n",
       "   'Description': 'Table 4.3B. Relation of Foreign Transactions in the National Income and Product Accounts to the Corresponding Items in the International Transactions Accounts (A)'},\n",
       "  {'TableName': 'T4030C',\n",
       "   'Description': 'Table 4.3C. Relation of Foreign Transactions in the National Income and Product Accounts to the Corresponding Items in the International Transactions Accounts (A) (Q)'},\n",
       "  {'TableName': 'T50100',\n",
       "   'Description': 'Table 5.1. Saving and Investment by Sector (A) (Q)'},\n",
       "  {'TableName': 'T50203',\n",
       "   'Description': 'Table 5.2.3. Real Gross and Net Domestic Investment by Major Type, Quantity Indexes (A)'},\n",
       "  {'TableName': 'T50205',\n",
       "   'Description': 'Table 5.2.5. Gross and Net Domestic Investment by Major Type (A)'},\n",
       "  {'TableName': 'T50206',\n",
       "   'Description': 'Table 5.2.6. Real Gross and Net Domestic Investment by Major Type, Chained dollars (A)'},\n",
       "  {'TableName': 'T50301',\n",
       "   'Description': 'Table 5.3.1. Percent Change From Preceding Period in Real Private Fixed Investment by Type (A) (Q)'},\n",
       "  {'TableName': 'T50302',\n",
       "   'Description': 'Table 5.3.2. Contributions to Percent Change in Real Private Fixed Investment by Type (A) (Q)'},\n",
       "  {'TableName': 'T50303',\n",
       "   'Description': 'Table 5.3.3. Real Private Fixed Investment by Type, Quantity Indexes (A) (Q)'},\n",
       "  {'TableName': 'T50304',\n",
       "   'Description': 'Table 5.3.4. Price Indexes for Private Fixed Investment by Type (A) (Q)'},\n",
       "  {'TableName': 'T50305',\n",
       "   'Description': 'Table 5.3.5. Private Fixed Investment by Type (A) (Q)'},\n",
       "  {'TableName': 'T50306',\n",
       "   'Description': 'Table 5.3.6. Real Private Fixed Investment by Type, Chained Dollars (A) (Q)'},\n",
       "  {'TableName': 'T50401',\n",
       "   'Description': 'Table 5.4.1. Percent Change From Preceding Period in Real Private Fixed Investment in Structures by Type (A)'},\n",
       "  {'TableName': 'T50402',\n",
       "   'Description': 'Table 5.4.2. Contributions to Percent Change in Real Private Fixed Investment in Structures by Type (A)'},\n",
       "  {'TableName': 'T50403',\n",
       "   'Description': 'Table 5.4.3. Real Private Fixed Investment in Structures by Type, Quantity Indexes (A)'},\n",
       "  {'TableName': 'T50404',\n",
       "   'Description': 'Table 5.4.4. Price Indexes for Private Fixed Investment in Structures by Type (A)'},\n",
       "  {'TableName': 'T50405',\n",
       "   'Description': 'Table 5.4.5. Private Fixed Investment in Structures by Type (A)'},\n",
       "  {'TableName': 'T50406',\n",
       "   'Description': 'Table 5.4.6. Real Private Fixed Investment in Structures by Type, Chained Dollars (A)'},\n",
       "  {'TableName': 'T50501',\n",
       "   'Description': 'Table 5.5.1. Percent Change From Preceding Period in Real Private Fixed Investment in Equipment by Type (A)'},\n",
       "  {'TableName': 'T50502',\n",
       "   'Description': 'Table 5.5.2. Contributions to Percent Change in Real Private Fixed Investment in Equipment by Type (A)'},\n",
       "  {'TableName': 'T50503',\n",
       "   'Description': 'Table 5.5.3. Real Private Fixed Investment in Equipment by Type, Quantity Indexes (A)'},\n",
       "  {'TableName': 'T50504',\n",
       "   'Description': 'Table 5.5.4. Price Indexes for Private Fixed Investment in Equipment by Type (A)'},\n",
       "  {'TableName': 'T50505',\n",
       "   'Description': 'Table 5.5.5. Private Fixed Investment in Equipment by Type (A)'},\n",
       "  {'TableName': 'T50506',\n",
       "   'Description': 'Table 5.5.6. Real Private Fixed Investment in Equipment by Type, Chained Dollars (A)'},\n",
       "  {'TableName': 'T50601',\n",
       "   'Description': 'Table 5.6.1. Percent Change From Preceding Period in Real Private Fixed Investment in Intellectual Property Products by Type (A)'},\n",
       "  {'TableName': 'T50602',\n",
       "   'Description': 'Table 5.6.2. Contributions to Percent Change in Private Fixed Investment in Intellectual Property Products by Type (A)'},\n",
       "  {'TableName': 'T50603',\n",
       "   'Description': 'Table 5.6.3. Real Private Fixed Investment in Intellectual Property Products by Type, Quantity Indexes (A)'},\n",
       "  {'TableName': 'T50604',\n",
       "   'Description': 'Table 5.6.4. Price Indexes for Private Fixed Investment in Intellectual Property Products by Type (A)'},\n",
       "  {'TableName': 'T50605',\n",
       "   'Description': 'Table 5.6.5. Private Fixed Investment in Intellectual Property Products by Type (A)'},\n",
       "  {'TableName': 'T50606',\n",
       "   'Description': 'Table 5.6.6. Real Private Fixed Investment in Intellectual Property Products by Type, Chained Dollars (A)'},\n",
       "  {'TableName': 'T50705A',\n",
       "   'Description': 'Table 5.7.5A. Change in Private Inventories by Industry (A) (Q)'},\n",
       "  {'TableName': 'T50705B',\n",
       "   'Description': 'Table 5.7.5B. Change in Private Inventories by Industry (A) (Q)'},\n",
       "  {'TableName': 'T50706A',\n",
       "   'Description': 'Table 5.7.6A. Change in Real Private Inventories by Industry, Chained Dollars (A) (Q)'},\n",
       "  {'TableName': 'T50706B',\n",
       "   'Description': 'Table 5.7.6B. Change in Real Private Inventories by Industry, Chained Dollars (A) (Q)'},\n",
       "  {'TableName': 'T50805A',\n",
       "   'Description': 'Table 5.8.5A. Private Inventories and Domestic Final Sales of Business by Industry (Q)'},\n",
       "  {'TableName': 'T50805B',\n",
       "   'Description': 'Table 5.8.5B. Private Inventories and Domestic Final Sales by Industry (Q)'},\n",
       "  {'TableName': 'T50806A',\n",
       "   'Description': 'Table 5.8.6A. Real Private Inventories and Real Domestic Final Sales of Business by Industry, Chained Dollars (Q)'},\n",
       "  {'TableName': 'T50806B',\n",
       "   'Description': 'Table 5.8.6B. Real Private Inventories and Real Domestic Final Sales by Industry, Chained Dollars (Q)'},\n",
       "  {'TableName': 'T50809A',\n",
       "   'Description': 'Table 5.8.9A. Implicit Price Deflators for Private Inventories by Industry (Q)'},\n",
       "  {'TableName': 'T50809B',\n",
       "   'Description': 'Table 5.8.9B. Implicit Price Deflators for Private Inventories by Industry (Q)'},\n",
       "  {'TableName': 'T50903',\n",
       "   'Description': 'Table 5.9.3. Real Gross Government Fixed Investment by Type, Quantity Indexes (A)'},\n",
       "  {'TableName': 'T50904',\n",
       "   'Description': 'Table 5.9.4. Price Indexes for Gross Government Fixed Investment by Type (A)'},\n",
       "  {'TableName': 'T50905',\n",
       "   'Description': 'Table 5.9.5. Gross Government Fixed Investment by Type (A)'},\n",
       "  {'TableName': 'T50906',\n",
       "   'Description': 'Table 5.9.6. Real Gross Government Fixed Investment by Type, Chained Dollars (A)'},\n",
       "  {'TableName': 'T51000',\n",
       "   'Description': 'Table 5.10. Changes in Net Stock of Produced Assets (Fixed Assets and Inventories) (A)'},\n",
       "  {'TableName': 'T51100',\n",
       "   'Description': 'Table 5.11. Capital Transfers Paid and Received, by Sector and by Type (A)'},\n",
       "  {'TableName': 'T60100B',\n",
       "   'Description': 'Table 6.1B. National Income Without Capital Consumption Adjustment by Industry (A) (Q)'},\n",
       "  {'TableName': 'T60100C',\n",
       "   'Description': 'Table 6.1C. National Income Without Capital Consumption Adjustment by Industry (A) (Q)'},\n",
       "  {'TableName': 'T60100D',\n",
       "   'Description': 'Table 6.1D. National Income Without Capital Consumption Adjustment by Industry (A) (Q)'},\n",
       "  {'TableName': 'T60200A',\n",
       "   'Description': 'Table 6.2A. Compensation of Employees by Industry (A)'},\n",
       "  {'TableName': 'T60200B',\n",
       "   'Description': 'Table 6.2B. Compensation of Employees by Industry (A)'},\n",
       "  {'TableName': 'T60200C',\n",
       "   'Description': 'Table 6.2C. Compensation of Employees by Industry (A)'},\n",
       "  {'TableName': 'T60200D',\n",
       "   'Description': 'Table 6.2D. Compensation of Employees by Industry (A)'},\n",
       "  {'TableName': 'T60300A',\n",
       "   'Description': 'Table 6.3A. Wages and Salaries by Industry (A)'},\n",
       "  {'TableName': 'T60300B',\n",
       "   'Description': 'Table 6.3B. Wages and Salaries by Industry (A)'},\n",
       "  {'TableName': 'T60300C',\n",
       "   'Description': 'Table 6.3C. Wages and Salaries by Industry (A)'},\n",
       "  {'TableName': 'T60300D',\n",
       "   'Description': 'Table 6.3D. Wages and Salaries by Industry (A)'},\n",
       "  {'TableName': 'T60400A',\n",
       "   'Description': 'Table 6.4A. Full-Time and Part-Time Employees by Industry (A)'},\n",
       "  {'TableName': 'T60400B',\n",
       "   'Description': 'Table 6.4B. Full-Time and Part-Time Employees by Industry (A)'},\n",
       "  {'TableName': 'T60400C',\n",
       "   'Description': 'Table 6.4C. Full-Time and Part-Time Employees by Industry (A)'},\n",
       "  {'TableName': 'T60400D',\n",
       "   'Description': 'Table 6.4D. Full-Time and Part-Time Employees by Industry (A)'},\n",
       "  {'TableName': 'T60500A',\n",
       "   'Description': 'Table 6.5A. Full-Time Equivalent Employees by Industry (A)'},\n",
       "  {'TableName': 'T60500B',\n",
       "   'Description': 'Table 6.5B. Full-Time Equivalent Employees by Industry (A)'},\n",
       "  {'TableName': 'T60500C',\n",
       "   'Description': 'Table 6.5C. Full-Time Equivalent Employees by Industry (A)'},\n",
       "  {'TableName': 'T60500D',\n",
       "   'Description': 'Table 6.5D. Full-Time Equivalent Employees by Industry (A)'},\n",
       "  {'TableName': 'T60600A',\n",
       "   'Description': 'Table 6.6A. Wages and Salaries Per Full-Time Equivalent Employee by Industry (A)'},\n",
       "  {'TableName': 'T60600B',\n",
       "   'Description': 'Table 6.6B. Wages and Salaries Per Full-Time Equivalent Employee by Industry (A)'},\n",
       "  {'TableName': 'T60600C',\n",
       "   'Description': 'Table 6.6C. Wages and Salaries Per Full-Time Equivalent Employee by Industry (A)'},\n",
       "  {'TableName': 'T60600D',\n",
       "   'Description': 'Table 6.6D. Wages and Salaries Per Full-Time Equivalent Employee by Industry (A)'},\n",
       "  {'TableName': 'T61000B',\n",
       "   'Description': 'Table 6.10B. Employer Contributions for Government Social Insurance by Industry (A)'},\n",
       "  {'TableName': 'T61000C',\n",
       "   'Description': 'Table 6.10C. Employer Contributions for Government Social Insurance by Industry (A)'},\n",
       "  {'TableName': 'T61000D',\n",
       "   'Description': 'Table 6.10D. Employer Contributions for Government Social Insurance by Industry (A)'},\n",
       "  {'TableName': 'T61100A',\n",
       "   'Description': 'Table 6.11A. Employer Contributions for Employee Pension and Insurance Funds by Industry and by Type (A)'},\n",
       "  {'TableName': 'T61100B',\n",
       "   'Description': 'Table 6.11B. Employer Contributions for Employee Pension and Insurance Funds by Industry and by Type (A)'},\n",
       "  {'TableName': 'T61100C',\n",
       "   'Description': 'Table 6.11C. Employer Contributions for Employee Pension and Insurance Funds by Industry and by Type (A)'},\n",
       "  {'TableName': 'T61100D',\n",
       "   'Description': 'Table 6.11D. Employer Contributions for Employee Pension and Insurance Funds by Industry and by Type (A)'},\n",
       "  {'TableName': 'T61200A',\n",
       "   'Description': \"Table 6.12A. Nonfarm Proprietors' Income by Industry (A)\"},\n",
       "  {'TableName': 'T61200B',\n",
       "   'Description': \"Table 6.12B. Nonfarm Proprietors' Income by Industry (A)\"},\n",
       "  {'TableName': 'T61200C',\n",
       "   'Description': \"Table 6.12C. Nonfarm Proprietors' Income by Industry (A)\"},\n",
       "  {'TableName': 'T61200D',\n",
       "   'Description': \"Table 6.12D. Nonfarm Proprietors' Income by Industry (A)\"},\n",
       "  {'TableName': 'T61300A',\n",
       "   'Description': 'Table 6.13A. Noncorporate Capital Consumption Allowances by Industry (A)'},\n",
       "  {'TableName': 'T61300B',\n",
       "   'Description': 'Table 6.13B. Noncorporate Capital Consumption Allowances by Industry (A)'},\n",
       "  {'TableName': 'T61300C',\n",
       "   'Description': 'Table 6.13C. Noncorporate Capital Consumption Allowances by Industry (A)'},\n",
       "  {'TableName': 'T61300D',\n",
       "   'Description': 'Table 6.13D. Noncorporate Capital Consumption Allowances by Industry (A)'},\n",
       "  {'TableName': 'T61400A',\n",
       "   'Description': 'Table 6.14A. Inventory Valuation Adjustment to Nonfarm Incomes by Legal Form of Organization and by Industry (A)'},\n",
       "  {'TableName': 'T61400B',\n",
       "   'Description': 'Table 6.14B. Inventory Valuation Adjustment to Nonfarm Incomes by Legal Form of Organization and by Industry (A)'},\n",
       "  {'TableName': 'T61400C',\n",
       "   'Description': 'Table 6.14C. Inventory Valuation Adjustment to Nonfarm Incomes by Legal Form of Organization and by Industry (A)'},\n",
       "  {'TableName': 'T61400D',\n",
       "   'Description': 'Table 6.14D. Inventory Valuation Adjustment to Nonfarm Incomes by Legal Form of Organization and by Industry (A)'},\n",
       "  {'TableName': 'T61500A',\n",
       "   'Description': 'Table 6.15A. Net Interest by Industry (A)'},\n",
       "  {'TableName': 'T61500B',\n",
       "   'Description': 'Table 6.15B. Net Interest by Industry (A)'},\n",
       "  {'TableName': 'T61500C',\n",
       "   'Description': 'Table 6.15C. Net Interest by Industry (A)'},\n",
       "  {'TableName': 'T61500D',\n",
       "   'Description': 'Table 6.15D. Net Interest by Industry (A)'},\n",
       "  {'TableName': 'T61600A',\n",
       "   'Description': 'Table 6.16A. Corporate Profits by Industry (A)'},\n",
       "  {'TableName': 'T61600B',\n",
       "   'Description': 'Table 6.16B. Corporate Profits by Industry (A) (Q)'},\n",
       "  {'TableName': 'T61600C',\n",
       "   'Description': 'Table 6.16C. Corporate Profits by Industry (A) (Q)'},\n",
       "  {'TableName': 'T61600D',\n",
       "   'Description': 'Table 6.16D. Corporate Profits by Industry (A) (Q)'},\n",
       "  {'TableName': 'T61700A',\n",
       "   'Description': 'Table 6.17A. Corporate Profits Before Tax by Industry (A)'},\n",
       "  {'TableName': 'T61700B',\n",
       "   'Description': 'Table 6.17B. Corporate Profits Before Tax by Industry (A)'},\n",
       "  {'TableName': 'T61700C',\n",
       "   'Description': 'Table 6.17C. Corporate Profits Before Tax by Industry (A)'},\n",
       "  {'TableName': 'T61700D',\n",
       "   'Description': 'Table 6.17D. Corporate Profits Before Tax by Industry (A)'},\n",
       "  {'TableName': 'T61800A',\n",
       "   'Description': 'Table 6.18A. Taxes on Corporate Income by Industry (A)'},\n",
       "  {'TableName': 'T61800B',\n",
       "   'Description': 'Table 6.18B. Taxes on Corporate Income by Industry (A)'},\n",
       "  {'TableName': 'T61800C',\n",
       "   'Description': 'Table 6.18C. Taxes on Corporate Income by Industry (A)'},\n",
       "  {'TableName': 'T61800D',\n",
       "   'Description': 'Table 6.18D. Taxes on Corporate Income by Industry (A)'},\n",
       "  {'TableName': 'T61900A',\n",
       "   'Description': 'Table 6.19A. Corporate Profits After Tax by Industry (A)'},\n",
       "  {'TableName': 'T61900B',\n",
       "   'Description': 'Table 6.19B. Corporate Profits After Tax by Industry (A)'},\n",
       "  {'TableName': 'T61900C',\n",
       "   'Description': 'Table 6.19C. Corporate Profits After Tax by Industry (A)'},\n",
       "  {'TableName': 'T61900D',\n",
       "   'Description': 'Table 6.19D. Corporate Profits After Tax by Industry (A)'},\n",
       "  {'TableName': 'T62000A',\n",
       "   'Description': 'Table 6.20A. Net Corporate Dividend Payments by Industry (A)'},\n",
       "  {'TableName': 'T62000B',\n",
       "   'Description': 'Table 6.20B. Net Corporate Dividend Payments by Industry (A)'},\n",
       "  {'TableName': 'T62000C',\n",
       "   'Description': 'Table 6.20C. Net Corporate Dividend Payments by Industry (A)'},\n",
       "  {'TableName': 'T62000D',\n",
       "   'Description': 'Table 6.20D. Net Corporate Dividend Payments by Industry (A)'},\n",
       "  {'TableName': 'T62100A',\n",
       "   'Description': 'Table 6.21A. Undistributed Corporate Profits by Industry (A)'},\n",
       "  {'TableName': 'T62100B',\n",
       "   'Description': 'Table 6.21B. Undistributed Corporate Profits by Industry (A)'},\n",
       "  {'TableName': 'T62100C',\n",
       "   'Description': 'Table 6.21C. Undistributed Corporate Profits by Industry (A)'},\n",
       "  {'TableName': 'T62100D',\n",
       "   'Description': 'Table 6.21D. Undistributed Corporate Profits by Industry (A)'},\n",
       "  {'TableName': 'T62200A',\n",
       "   'Description': 'Table 6.22A. Corporate Capital Consumption Allowances by Industry (A)'},\n",
       "  {'TableName': 'T62200B',\n",
       "   'Description': 'Table 6.22B. Corporate Capital Consumption Allowances by Industry (A)'},\n",
       "  {'TableName': 'T62200C',\n",
       "   'Description': 'Table 6.22C. Corporate Capital Consumption Allowances by Industry (A)'},\n",
       "  {'TableName': 'T62200D',\n",
       "   'Description': 'Table 6.22D. Corporate Capital Consumption Allowances by Industry (A)'},\n",
       "  {'TableName': 'T70100',\n",
       "   'Description': 'Table 7.1. Selected Per Capita Product and Income Series in Current and Chained Dollars (A) (Q)'},\n",
       "  {'TableName': 'T70201A',\n",
       "   'Description': 'Table 7.2.1A. Percent Change From Preceding Period in Real Auto Output (A) (Q)'},\n",
       "  {'TableName': 'T70201B',\n",
       "   'Description': 'Table 7.2.1B. Percent Change From Preceding Period in Real Motor Vehicle Output (A) (Q)'},\n",
       "  {'TableName': 'T70203A',\n",
       "   'Description': 'Table 7.2.3A. Real Auto Output, Quantity Indexes (A) (Q)'},\n",
       "  {'TableName': 'T70203B',\n",
       "   'Description': 'Table 7.2.3B. Real Motor Vehicle Output, Quantity Indexes (A) (Q)'},\n",
       "  {'TableName': 'T70204A',\n",
       "   'Description': 'Table 7.2.4A. Price Indexes for Auto Output (A) (Q)'},\n",
       "  {'TableName': 'T70204B',\n",
       "   'Description': 'Table 7.2.4B. Price Indexes for Motor Vehicle Output (A) (Q)'},\n",
       "  {'TableName': 'T70205A', 'Description': 'Table 7.2.5A. Auto Output (A) (Q)'},\n",
       "  {'TableName': 'T70205B',\n",
       "   'Description': 'Table 7.2.5B. Motor Vehicle Output (A) (Q)'},\n",
       "  {'TableName': 'T70206B',\n",
       "   'Description': 'Table 7.2.6B. Real Motor Vehicle Output, Chained Dollars (A) (Q)'},\n",
       "  {'TableName': 'T70303',\n",
       "   'Description': 'Table 7.3.3. Real Farm Sector Output, Real Gross Value Added, and Real Net Value Added, Quantity Indexes (A)'},\n",
       "  {'TableName': 'T70304',\n",
       "   'Description': 'Table 7.3.4. Price Indexes for Farm Sector Output, Gross Value Added, and Net Value Added (A)'},\n",
       "  {'TableName': 'T70305',\n",
       "   'Description': 'Table 7.3.5. Farm Sector Output, Gross Value Added, and Net Value Added (A)'},\n",
       "  {'TableName': 'T70306',\n",
       "   'Description': 'Table 7.3.6. Real Farm Sector Output, Real Gross Value Added, and Real Net Value Added, Chained Dollars (A)'},\n",
       "  {'TableName': 'T70403',\n",
       "   'Description': 'Table 7.4.3. Real Housing Sector Output, Real Gross Value Added, and Real Net Value Added, Quantity Indexes (A)'},\n",
       "  {'TableName': 'T70404',\n",
       "   'Description': 'Table 7.4.4. Price Indexes for Housing Sector Output, Gross Value Added, and Net Value Added (A)'},\n",
       "  {'TableName': 'T70405',\n",
       "   'Description': 'Table 7.4.5. Housing Sector Output, Gross Value Added, and Net Value Added (A)'},\n",
       "  {'TableName': 'T70406',\n",
       "   'Description': 'Table 7.4.6. Real Housing Sector Output, Real Gross Value Added, and Real Net Value Added, Chained Dollars (A)'},\n",
       "  {'TableName': 'T70500',\n",
       "   'Description': 'Table 7.5. Consumption of Fixed Capital by Legal Form of Organization and Type of Income (A) (Q)'},\n",
       "  {'TableName': 'T70600',\n",
       "   'Description': 'Table 7.6. Capital Consumption Adjustment by Legal Form of Organization and Type of Adjustment (A)'},\n",
       "  {'TableName': 'T70700',\n",
       "   'Description': 'Table 7.7. Business Current Transfer Payments by Type (A)'},\n",
       "  {'TableName': 'T70800',\n",
       "   'Description': 'Table 7.8. Supplements to Wages and Salaries by Type (A)'},\n",
       "  {'TableName': 'T70900',\n",
       "   'Description': 'Table 7.9. Rental Income of Persons by Legal Form of Organization and by Type of Income (A)'},\n",
       "  {'TableName': 'T71000',\n",
       "   'Description': 'Table 7.10. Dividends Paid and Received by Sector (A)'},\n",
       "  {'TableName': 'T71100',\n",
       "   'Description': 'Table 7.11. Interest Paid and Received by Sector and Legal Form of Organization (A)'},\n",
       "  {'TableName': 'T71300',\n",
       "   'Description': 'Table 7.13. Relation of Consumption of Fixed Capital in the National Income and Product Accounts to Depreciation and Amortization as Published by the Internal Revenue Service (A)'},\n",
       "  {'TableName': 'T71400',\n",
       "   'Description': \"Table 7.14. Relation of Nonfarm Proprietors' Income in the National Income and Product Accounts to Corresponding Measures as Published by the Internal Revenue Service (A)\"},\n",
       "  {'TableName': 'T71500',\n",
       "   'Description': 'Table 7.15. Relation of Net Farm Income in the National Income and Product Accounts to Net Farm Income as Published by the U.S. Department of Agriculture (A)'},\n",
       "  {'TableName': 'T71600',\n",
       "   'Description': 'Table 7.16. Relation of Corporate Profits, Taxes, and Dividends in the National Income and Product Accounts to Corresponding Measures as Published by the Internal Revenue Service (A)'},\n",
       "  {'TableName': 'T71700',\n",
       "   'Description': 'Table 7.17. Relation of Monetary Interest Paid and Received in the National Income and Product Accounts to Corresponding Measures as Published by the Internal Revenue Service (A)'},\n",
       "  {'TableName': 'T71800',\n",
       "   'Description': 'Table 7.18. Relation of Wages and Salaries in the National Income and Product Accounts to Wages and Salaries as Published by the Bureau of Labor Statistics (A)'},\n",
       "  {'TableName': 'T72000',\n",
       "   'Description': 'Table 7.20. Transactions of Defined Benefit and Defined Contribution Pension Plans (A)'},\n",
       "  {'TableName': 'T72100',\n",
       "   'Description': 'Table 7.21. Transactions of Defined Benefit Pension Plans (A)'},\n",
       "  {'TableName': 'T72200',\n",
       "   'Description': 'Table 7.22. Transactions of Private Defined Benefit Pension Plans (A)'},\n",
       "  {'TableName': 'T72300',\n",
       "   'Description': 'Table 7.23. Transactions of Federal Government Defined Benefit Pension Plans (A)'},\n",
       "  {'TableName': 'T72400',\n",
       "   'Description': 'Table 7.24. Transactions of State and Local Government Defined Benefit Pension Plans (A)'},\n",
       "  {'TableName': 'T72500',\n",
       "   'Description': 'Table 7.25. Transactions of Defined Contribution Pension Plans (A)'},\n",
       "  {'TableName': 'T80103',\n",
       "   'Description': 'Table 8.1.3. Real Gross Domestic Product, Quantity Indexes, Not Seasonally Adjusted (Q)'},\n",
       "  {'TableName': 'T80104',\n",
       "   'Description': 'Table 8.1.4. Price Indexes for Gross Domestic Product, Not Seasonally Adjusted (Q)'},\n",
       "  {'TableName': 'T80105',\n",
       "   'Description': 'Table 8.1.5. Gross Domestic Product, Not Seasonally Adjusted (Q)'},\n",
       "  {'TableName': 'T80106',\n",
       "   'Description': 'Table 8.1.6. Real Gross Domestic Product, Chained Dollars, Not Seasonally Adjusted (Q)'},\n",
       "  {'TableName': 'T80111',\n",
       "   'Description': 'Table 8.1.11. Real Gross Domestic Product: Percent Change From Quarter One Year Ago, Not Seasonally Adjusted (Q)'},\n",
       "  {'TableName': 'T80200',\n",
       "   'Description': 'Table 8.2. Gross Domestic Income by Type of Income, Not Seasonally Adjusted (Q)'},\n",
       "  {'TableName': 'T80300',\n",
       "   'Description': 'Table 8.3. Federal Government Current Receipts and Expenditures, Not Seasonally Adjusted (Q)'},\n",
       "  {'TableName': 'T80400',\n",
       "   'Description': 'Table 8.4. State and Local Government Current Receipts and Expenditures, Not Seasonally Adjusted (Q)'}]}"
      ]
     },
     "execution_count": 4,
     "metadata": {},
     "output_type": "execute_result"
    }
   ],
   "source": [
    "parameters = {\n",
    "    \"UserID\": '9452074C-9BA9-4108-B38D-55B924516C1C',\n",
    "    \"Method\": \"GetParameterValues\",\n",
    "    \"Datasetname\": \"NIPA\",\n",
    "    # \"TableID\": \"T20304\",\n",
    "    # \"Frequency\": \"Q\",\n",
    "    # \"Year\": \"ALL\",\n",
    "    \"ParameterName\": \"TableName\",\n",
    "    \"ResultFormat\": \"JSON\"\n",
    "}\n",
    "response = requests.get('https://apps.bea.gov/api/data/', params=parameters)\n",
    "NIPA_tables_description = response.json()['BEAAPI']['Results']\n",
    "NIPA_tables_description"
   ]
  },
  {
   "attachments": {},
   "cell_type": "markdown",
   "metadata": {},
   "source": [
    "### 'TableName': 'T20303',\n",
    "'Description': 'Table 2.3.3. Real Personal Consumption Expenditures by Major Type of Product, Quantity Indexes (A) (Q)'  "
   ]
  },
  {
   "cell_type": "code",
   "execution_count": 5,
   "metadata": {},
   "outputs": [],
   "source": [
    "parameters = {\n",
    "    \"UserID\": '9452074C-9BA9-4108-B38D-55B924516C1C',\n",
    "    \"Method\": \"GetData\",\n",
    "    \"Datasetname\": \"NIPA\",\n",
    "    \"TableName\": \"T20303\",\n",
    "    \"Frequency\": \"Q\",\n",
    "    \"Year\": \"ALL\",\n",
    "    \"ResultFormat\": \"JSON\"\n",
    "}\n",
    "response = requests.get('https://apps.bea.gov/api/data/', params=parameters)\n",
    "\n",
    "data = response.json()[\"BEAAPI\"][\"Results\"][\"Data\"]\n",
    "df_quantity = pd.DataFrame(data)\n",
    "df_quantity[\"DataValue\"] = pd.to_numeric(df_quantity[\"DataValue\"])\n",
    "df_quantity = df_quantity.pivot_table(index=\"TimePeriod\", columns=\"LineDescription\", values=\"DataValue\")\n",
    "# df_quantity.head(10)"
   ]
  },
  {
   "attachments": {},
   "cell_type": "markdown",
   "metadata": {},
   "source": [
    "### 'TableName': 'T20304',\n",
    "'Description': 'Table 2.3.4. Price Indexes for Personal Consumption Expenditures by Major Type of Product (A) (Q)'"
   ]
  },
  {
   "cell_type": "code",
   "execution_count": 6,
   "metadata": {},
   "outputs": [],
   "source": [
    "parameters = {\n",
    "    \"UserID\": '9452074C-9BA9-4108-B38D-55B924516C1C',\n",
    "    \"Method\": \"GetData\",\n",
    "    \"Datasetname\": \"NIPA\",\n",
    "    \"TableName\": \"T20304\",\n",
    "    \"Frequency\": \"Q\",\n",
    "    \"Year\": \"ALL\",\n",
    "    \"ResultFormat\": \"JSON\"\n",
    "}\n",
    "response = requests.get('https://apps.bea.gov/api/data/', params=parameters)\n",
    "\n",
    "data = response.json()[\"BEAAPI\"][\"Results\"][\"Data\"]\n",
    "df_price = pd.DataFrame(data)\n",
    "df_price[\"DataValue\"] = pd.to_numeric(df_price[\"DataValue\"])\n",
    "df_price = df_price.pivot_table(index=\"TimePeriod\", columns=\"LineDescription\", values=\"DataValue\")\n",
    "# df_price.head(20)"
   ]
  },
  {
   "cell_type": "code",
   "execution_count": 7,
   "metadata": {},
   "outputs": [
    {
     "data": {
      "text/html": [
       "<div>\n",
       "<style scoped>\n",
       "    .dataframe tbody tr th:only-of-type {\n",
       "        vertical-align: middle;\n",
       "    }\n",
       "\n",
       "    .dataframe tbody tr th {\n",
       "        vertical-align: top;\n",
       "    }\n",
       "\n",
       "    .dataframe thead th {\n",
       "        text-align: right;\n",
       "    }\n",
       "</style>\n",
       "<table border=\"1\" class=\"dataframe\">\n",
       "  <thead>\n",
       "    <tr style=\"text-align: right;\">\n",
       "      <th>LineDescription</th>\n",
       "      <th>Quantity (goods)</th>\n",
       "      <th>Quantity (services)</th>\n",
       "      <th>Price (goods)</th>\n",
       "      <th>Price (services)</th>\n",
       "    </tr>\n",
       "    <tr>\n",
       "      <th>TimePeriod</th>\n",
       "      <th></th>\n",
       "      <th></th>\n",
       "      <th></th>\n",
       "      <th></th>\n",
       "    </tr>\n",
       "  </thead>\n",
       "  <tbody>\n",
       "    <tr>\n",
       "      <th>1947Q1</th>\n",
       "      <td>10.000</td>\n",
       "      <td>9.491</td>\n",
       "      <td>22.699</td>\n",
       "      <td>7.029</td>\n",
       "    </tr>\n",
       "    <tr>\n",
       "      <th>1947Q2</th>\n",
       "      <td>10.180</td>\n",
       "      <td>9.628</td>\n",
       "      <td>22.917</td>\n",
       "      <td>7.068</td>\n",
       "    </tr>\n",
       "    <tr>\n",
       "      <th>1947Q3</th>\n",
       "      <td>10.248</td>\n",
       "      <td>9.608</td>\n",
       "      <td>23.267</td>\n",
       "      <td>7.237</td>\n",
       "    </tr>\n",
       "    <tr>\n",
       "      <th>1947Q4</th>\n",
       "      <td>10.286</td>\n",
       "      <td>9.558</td>\n",
       "      <td>23.880</td>\n",
       "      <td>7.401</td>\n",
       "    </tr>\n",
       "    <tr>\n",
       "      <th>1948Q1</th>\n",
       "      <td>10.301</td>\n",
       "      <td>9.660</td>\n",
       "      <td>24.223</td>\n",
       "      <td>7.444</td>\n",
       "    </tr>\n",
       "  </tbody>\n",
       "</table>\n",
       "</div>"
      ],
      "text/plain": [
       "LineDescription  Quantity (goods)  Quantity (services)  Price (goods)  \\\n",
       "TimePeriod                                                              \n",
       "1947Q1                     10.000                9.491         22.699   \n",
       "1947Q2                     10.180                9.628         22.917   \n",
       "1947Q3                     10.248                9.608         23.267   \n",
       "1947Q4                     10.286                9.558         23.880   \n",
       "1948Q1                     10.301                9.660         24.223   \n",
       "\n",
       "LineDescription  Price (services)  \n",
       "TimePeriod                         \n",
       "1947Q1                      7.029  \n",
       "1947Q2                      7.068  \n",
       "1947Q3                      7.237  \n",
       "1947Q4                      7.401  \n",
       "1948Q1                      7.444  "
      ]
     },
     "execution_count": 7,
     "metadata": {},
     "output_type": "execute_result"
    }
   ],
   "source": [
    "df_pq = df_quantity[['Goods', 'Services']]\n",
    "df_pq = df_pq.rename(columns = {'Goods': 'Quantity (goods)', 'Services': 'Quantity (services)'})\n",
    "df_pq['Price (goods)'] = df_price['Goods']\n",
    "df_pq['Price (services)'] = df_price['Services']\n",
    "df_pq.head()"
   ]
  },
  {
   "cell_type": "code",
   "execution_count": 13,
   "metadata": {},
   "outputs": [
    {
     "data": {
      "application/vnd.plotly.v1+json": {
       "config": {
        "plotlyServerURL": "https://plot.ly"
       },
       "data": [
        {
         "marker": {
          "line": {
           "color": "black",
           "width": 1
          },
          "size": 8
         },
         "mode": "lines+markers+text",
         "name": "goods",
         "showlegend": false,
         "text": [
          "2019Q3",
          "",
          "2020Q1",
          "",
          "2020Q3",
          "",
          "2021Q1",
          "",
          "2021Q3",
          "",
          "2022Q1",
          "",
          "2022Q3",
          "",
          "2023Q1",
          "",
          "2023Q3",
          "",
          "2024Q1",
          ""
         ],
         "textfont": {
          "size": 10
         },
         "textposition": "top center",
         "type": "scatter",
         "x": [
          108.281,
          108.637,
          108.002,
          105.469,
          117.066,
          117.965,
          122.916,
          127.128,
          123.958,
          125.367,
          124.838,
          124.36,
          123.653,
          123.451,
          125.669,
          125.561,
          126.635,
          127.688,
          127.315,
          128.248
         ],
         "xaxis": "x",
         "y": [
          100.334,
          100.463,
          100.166,
          98.728,
          99.696,
          100.033,
          101.395,
          103.536,
          105.38,
          108.077,
          111.173,
          113.982,
          114.669,
          114.727,
          114.946,
          115.111,
          115.257,
          114.807,
          114.659,
          114.857
         ],
         "yaxis": "y"
        },
        {
         "marker": {
          "line": {
           "color": "black",
           "width": 1
          },
          "size": 8
         },
         "mode": "lines+markers+text",
         "name": "services",
         "showlegend": false,
         "text": [
          "2019Q3",
          "",
          "2020Q1",
          "",
          "2020Q3",
          "",
          "2021Q1",
          "",
          "2021Q3",
          "",
          "2022Q1",
          "",
          "2022Q3",
          "",
          "2023Q1",
          "",
          "2023Q3",
          "",
          "2024Q1",
          ""
         ],
         "textfont": {
          "size": 10
         },
         "textposition": "top left",
         "type": "scatter",
         "x": [
          104.364,
          105.197,
          102.875,
          90.88,
          98.154,
          99.86,
          101.17,
          104.52,
          107.148,
          108.289,
          108.924,
          110.195,
          111.145,
          111.738,
          112.774,
          113.232,
          113.823,
          114.817,
          115.784,
          116.57
         ],
         "xaxis": "x2",
         "y": [
          105.256,
          105.802,
          106.429,
          106.542,
          107.322,
          107.928,
          109.022,
          110.409,
          111.708,
          113.04,
          114.595,
          116.3,
          117.982,
          119.707,
          121.335,
          122.556,
          123.696,
          124.68,
          126.309,
          127.367
         ],
         "yaxis": "y2"
        }
       ],
       "layout": {
        "annotations": [
         {
          "font": {
           "size": 16
          },
          "showarrow": false,
          "text": "Goods",
          "x": 0.225,
          "xanchor": "center",
          "xref": "paper",
          "y": 1,
          "yanchor": "bottom",
          "yref": "paper"
         },
         {
          "font": {
           "size": 16
          },
          "showarrow": false,
          "text": "Services",
          "x": 0.775,
          "xanchor": "center",
          "xref": "paper",
          "y": 1,
          "yanchor": "bottom",
          "yref": "paper"
         }
        ],
        "font": {
         "color": "black",
         "family": "Arial",
         "size": 12
        },
        "height": 800,
        "margin": {
         "b": 50,
         "l": 50,
         "r": 50,
         "t": 50
        },
        "plot_bgcolor": "white",
        "template": {
         "data": {
          "bar": [
           {
            "error_x": {
             "color": "#2a3f5f"
            },
            "error_y": {
             "color": "#2a3f5f"
            },
            "marker": {
             "line": {
              "color": "#E5ECF6",
              "width": 0.5
             },
             "pattern": {
              "fillmode": "overlay",
              "size": 10,
              "solidity": 0.2
             }
            },
            "type": "bar"
           }
          ],
          "barpolar": [
           {
            "marker": {
             "line": {
              "color": "#E5ECF6",
              "width": 0.5
             },
             "pattern": {
              "fillmode": "overlay",
              "size": 10,
              "solidity": 0.2
             }
            },
            "type": "barpolar"
           }
          ],
          "carpet": [
           {
            "aaxis": {
             "endlinecolor": "#2a3f5f",
             "gridcolor": "white",
             "linecolor": "white",
             "minorgridcolor": "white",
             "startlinecolor": "#2a3f5f"
            },
            "baxis": {
             "endlinecolor": "#2a3f5f",
             "gridcolor": "white",
             "linecolor": "white",
             "minorgridcolor": "white",
             "startlinecolor": "#2a3f5f"
            },
            "type": "carpet"
           }
          ],
          "choropleth": [
           {
            "colorbar": {
             "outlinewidth": 0,
             "ticks": ""
            },
            "type": "choropleth"
           }
          ],
          "contour": [
           {
            "colorbar": {
             "outlinewidth": 0,
             "ticks": ""
            },
            "colorscale": [
             [
              0,
              "#0d0887"
             ],
             [
              0.1111111111111111,
              "#46039f"
             ],
             [
              0.2222222222222222,
              "#7201a8"
             ],
             [
              0.3333333333333333,
              "#9c179e"
             ],
             [
              0.4444444444444444,
              "#bd3786"
             ],
             [
              0.5555555555555556,
              "#d8576b"
             ],
             [
              0.6666666666666666,
              "#ed7953"
             ],
             [
              0.7777777777777778,
              "#fb9f3a"
             ],
             [
              0.8888888888888888,
              "#fdca26"
             ],
             [
              1,
              "#f0f921"
             ]
            ],
            "type": "contour"
           }
          ],
          "contourcarpet": [
           {
            "colorbar": {
             "outlinewidth": 0,
             "ticks": ""
            },
            "type": "contourcarpet"
           }
          ],
          "heatmap": [
           {
            "colorbar": {
             "outlinewidth": 0,
             "ticks": ""
            },
            "colorscale": [
             [
              0,
              "#0d0887"
             ],
             [
              0.1111111111111111,
              "#46039f"
             ],
             [
              0.2222222222222222,
              "#7201a8"
             ],
             [
              0.3333333333333333,
              "#9c179e"
             ],
             [
              0.4444444444444444,
              "#bd3786"
             ],
             [
              0.5555555555555556,
              "#d8576b"
             ],
             [
              0.6666666666666666,
              "#ed7953"
             ],
             [
              0.7777777777777778,
              "#fb9f3a"
             ],
             [
              0.8888888888888888,
              "#fdca26"
             ],
             [
              1,
              "#f0f921"
             ]
            ],
            "type": "heatmap"
           }
          ],
          "heatmapgl": [
           {
            "colorbar": {
             "outlinewidth": 0,
             "ticks": ""
            },
            "colorscale": [
             [
              0,
              "#0d0887"
             ],
             [
              0.1111111111111111,
              "#46039f"
             ],
             [
              0.2222222222222222,
              "#7201a8"
             ],
             [
              0.3333333333333333,
              "#9c179e"
             ],
             [
              0.4444444444444444,
              "#bd3786"
             ],
             [
              0.5555555555555556,
              "#d8576b"
             ],
             [
              0.6666666666666666,
              "#ed7953"
             ],
             [
              0.7777777777777778,
              "#fb9f3a"
             ],
             [
              0.8888888888888888,
              "#fdca26"
             ],
             [
              1,
              "#f0f921"
             ]
            ],
            "type": "heatmapgl"
           }
          ],
          "histogram": [
           {
            "marker": {
             "pattern": {
              "fillmode": "overlay",
              "size": 10,
              "solidity": 0.2
             }
            },
            "type": "histogram"
           }
          ],
          "histogram2d": [
           {
            "colorbar": {
             "outlinewidth": 0,
             "ticks": ""
            },
            "colorscale": [
             [
              0,
              "#0d0887"
             ],
             [
              0.1111111111111111,
              "#46039f"
             ],
             [
              0.2222222222222222,
              "#7201a8"
             ],
             [
              0.3333333333333333,
              "#9c179e"
             ],
             [
              0.4444444444444444,
              "#bd3786"
             ],
             [
              0.5555555555555556,
              "#d8576b"
             ],
             [
              0.6666666666666666,
              "#ed7953"
             ],
             [
              0.7777777777777778,
              "#fb9f3a"
             ],
             [
              0.8888888888888888,
              "#fdca26"
             ],
             [
              1,
              "#f0f921"
             ]
            ],
            "type": "histogram2d"
           }
          ],
          "histogram2dcontour": [
           {
            "colorbar": {
             "outlinewidth": 0,
             "ticks": ""
            },
            "colorscale": [
             [
              0,
              "#0d0887"
             ],
             [
              0.1111111111111111,
              "#46039f"
             ],
             [
              0.2222222222222222,
              "#7201a8"
             ],
             [
              0.3333333333333333,
              "#9c179e"
             ],
             [
              0.4444444444444444,
              "#bd3786"
             ],
             [
              0.5555555555555556,
              "#d8576b"
             ],
             [
              0.6666666666666666,
              "#ed7953"
             ],
             [
              0.7777777777777778,
              "#fb9f3a"
             ],
             [
              0.8888888888888888,
              "#fdca26"
             ],
             [
              1,
              "#f0f921"
             ]
            ],
            "type": "histogram2dcontour"
           }
          ],
          "mesh3d": [
           {
            "colorbar": {
             "outlinewidth": 0,
             "ticks": ""
            },
            "type": "mesh3d"
           }
          ],
          "parcoords": [
           {
            "line": {
             "colorbar": {
              "outlinewidth": 0,
              "ticks": ""
             }
            },
            "type": "parcoords"
           }
          ],
          "pie": [
           {
            "automargin": true,
            "type": "pie"
           }
          ],
          "scatter": [
           {
            "fillpattern": {
             "fillmode": "overlay",
             "size": 10,
             "solidity": 0.2
            },
            "type": "scatter"
           }
          ],
          "scatter3d": [
           {
            "line": {
             "colorbar": {
              "outlinewidth": 0,
              "ticks": ""
             }
            },
            "marker": {
             "colorbar": {
              "outlinewidth": 0,
              "ticks": ""
             }
            },
            "type": "scatter3d"
           }
          ],
          "scattercarpet": [
           {
            "marker": {
             "colorbar": {
              "outlinewidth": 0,
              "ticks": ""
             }
            },
            "type": "scattercarpet"
           }
          ],
          "scattergeo": [
           {
            "marker": {
             "colorbar": {
              "outlinewidth": 0,
              "ticks": ""
             }
            },
            "type": "scattergeo"
           }
          ],
          "scattergl": [
           {
            "marker": {
             "colorbar": {
              "outlinewidth": 0,
              "ticks": ""
             }
            },
            "type": "scattergl"
           }
          ],
          "scattermapbox": [
           {
            "marker": {
             "colorbar": {
              "outlinewidth": 0,
              "ticks": ""
             }
            },
            "type": "scattermapbox"
           }
          ],
          "scatterpolar": [
           {
            "marker": {
             "colorbar": {
              "outlinewidth": 0,
              "ticks": ""
             }
            },
            "type": "scatterpolar"
           }
          ],
          "scatterpolargl": [
           {
            "marker": {
             "colorbar": {
              "outlinewidth": 0,
              "ticks": ""
             }
            },
            "type": "scatterpolargl"
           }
          ],
          "scatterternary": [
           {
            "marker": {
             "colorbar": {
              "outlinewidth": 0,
              "ticks": ""
             }
            },
            "type": "scatterternary"
           }
          ],
          "surface": [
           {
            "colorbar": {
             "outlinewidth": 0,
             "ticks": ""
            },
            "colorscale": [
             [
              0,
              "#0d0887"
             ],
             [
              0.1111111111111111,
              "#46039f"
             ],
             [
              0.2222222222222222,
              "#7201a8"
             ],
             [
              0.3333333333333333,
              "#9c179e"
             ],
             [
              0.4444444444444444,
              "#bd3786"
             ],
             [
              0.5555555555555556,
              "#d8576b"
             ],
             [
              0.6666666666666666,
              "#ed7953"
             ],
             [
              0.7777777777777778,
              "#fb9f3a"
             ],
             [
              0.8888888888888888,
              "#fdca26"
             ],
             [
              1,
              "#f0f921"
             ]
            ],
            "type": "surface"
           }
          ],
          "table": [
           {
            "cells": {
             "fill": {
              "color": "#EBF0F8"
             },
             "line": {
              "color": "white"
             }
            },
            "header": {
             "fill": {
              "color": "#C8D4E3"
             },
             "line": {
              "color": "white"
             }
            },
            "type": "table"
           }
          ]
         },
         "layout": {
          "annotationdefaults": {
           "arrowcolor": "#2a3f5f",
           "arrowhead": 0,
           "arrowwidth": 1
          },
          "autotypenumbers": "strict",
          "coloraxis": {
           "colorbar": {
            "outlinewidth": 0,
            "ticks": ""
           }
          },
          "colorscale": {
           "diverging": [
            [
             0,
             "#8e0152"
            ],
            [
             0.1,
             "#c51b7d"
            ],
            [
             0.2,
             "#de77ae"
            ],
            [
             0.3,
             "#f1b6da"
            ],
            [
             0.4,
             "#fde0ef"
            ],
            [
             0.5,
             "#f7f7f7"
            ],
            [
             0.6,
             "#e6f5d0"
            ],
            [
             0.7,
             "#b8e186"
            ],
            [
             0.8,
             "#7fbc41"
            ],
            [
             0.9,
             "#4d9221"
            ],
            [
             1,
             "#276419"
            ]
           ],
           "sequential": [
            [
             0,
             "#0d0887"
            ],
            [
             0.1111111111111111,
             "#46039f"
            ],
            [
             0.2222222222222222,
             "#7201a8"
            ],
            [
             0.3333333333333333,
             "#9c179e"
            ],
            [
             0.4444444444444444,
             "#bd3786"
            ],
            [
             0.5555555555555556,
             "#d8576b"
            ],
            [
             0.6666666666666666,
             "#ed7953"
            ],
            [
             0.7777777777777778,
             "#fb9f3a"
            ],
            [
             0.8888888888888888,
             "#fdca26"
            ],
            [
             1,
             "#f0f921"
            ]
           ],
           "sequentialminus": [
            [
             0,
             "#0d0887"
            ],
            [
             0.1111111111111111,
             "#46039f"
            ],
            [
             0.2222222222222222,
             "#7201a8"
            ],
            [
             0.3333333333333333,
             "#9c179e"
            ],
            [
             0.4444444444444444,
             "#bd3786"
            ],
            [
             0.5555555555555556,
             "#d8576b"
            ],
            [
             0.6666666666666666,
             "#ed7953"
            ],
            [
             0.7777777777777778,
             "#fb9f3a"
            ],
            [
             0.8888888888888888,
             "#fdca26"
            ],
            [
             1,
             "#f0f921"
            ]
           ]
          },
          "colorway": [
           "#636efa",
           "#EF553B",
           "#00cc96",
           "#ab63fa",
           "#FFA15A",
           "#19d3f3",
           "#FF6692",
           "#B6E880",
           "#FF97FF",
           "#FECB52"
          ],
          "font": {
           "color": "#2a3f5f"
          },
          "geo": {
           "bgcolor": "white",
           "lakecolor": "white",
           "landcolor": "#E5ECF6",
           "showlakes": true,
           "showland": true,
           "subunitcolor": "white"
          },
          "hoverlabel": {
           "align": "left"
          },
          "hovermode": "closest",
          "mapbox": {
           "style": "light"
          },
          "paper_bgcolor": "white",
          "plot_bgcolor": "#E5ECF6",
          "polar": {
           "angularaxis": {
            "gridcolor": "white",
            "linecolor": "white",
            "ticks": ""
           },
           "bgcolor": "#E5ECF6",
           "radialaxis": {
            "gridcolor": "white",
            "linecolor": "white",
            "ticks": ""
           }
          },
          "scene": {
           "xaxis": {
            "backgroundcolor": "#E5ECF6",
            "gridcolor": "white",
            "gridwidth": 2,
            "linecolor": "white",
            "showbackground": true,
            "ticks": "",
            "zerolinecolor": "white"
           },
           "yaxis": {
            "backgroundcolor": "#E5ECF6",
            "gridcolor": "white",
            "gridwidth": 2,
            "linecolor": "white",
            "showbackground": true,
            "ticks": "",
            "zerolinecolor": "white"
           },
           "zaxis": {
            "backgroundcolor": "#E5ECF6",
            "gridcolor": "white",
            "gridwidth": 2,
            "linecolor": "white",
            "showbackground": true,
            "ticks": "",
            "zerolinecolor": "white"
           }
          },
          "shapedefaults": {
           "line": {
            "color": "#2a3f5f"
           }
          },
          "ternary": {
           "aaxis": {
            "gridcolor": "white",
            "linecolor": "white",
            "ticks": ""
           },
           "baxis": {
            "gridcolor": "white",
            "linecolor": "white",
            "ticks": ""
           },
           "bgcolor": "#E5ECF6",
           "caxis": {
            "gridcolor": "white",
            "linecolor": "white",
            "ticks": ""
           }
          },
          "title": {
           "x": 0.05
          },
          "xaxis": {
           "automargin": true,
           "gridcolor": "white",
           "linecolor": "white",
           "ticks": "",
           "title": {
            "standoff": 15
           },
           "zerolinecolor": "white",
           "zerolinewidth": 2
          },
          "yaxis": {
           "automargin": true,
           "gridcolor": "white",
           "linecolor": "white",
           "ticks": "",
           "title": {
            "standoff": 15
           },
           "zerolinecolor": "white",
           "zerolinewidth": 2
          }
         }
        },
        "title": {
         "text": "Price and Quantities",
         "x": 0.5,
         "y": 0.97
        },
        "width": 1200,
        "xaxis": {
         "anchor": "y",
         "domain": [
          0,
          0.45
         ],
         "gridcolor": "lightgray",
         "showgrid": true,
         "title": {
          "text": "Quantity"
         },
         "zeroline": false
        },
        "xaxis2": {
         "anchor": "y2",
         "domain": [
          0.55,
          1
         ],
         "gridcolor": "lightgray",
         "showgrid": true,
         "title": {
          "text": "Quantity"
         },
         "zeroline": false
        },
        "yaxis": {
         "anchor": "x",
         "domain": [
          0,
          1
         ],
         "gridcolor": "lightgray",
         "showgrid": true,
         "title": {
          "text": "Price (2012=100)"
         },
         "zeroline": false
        },
        "yaxis2": {
         "anchor": "x2",
         "domain": [
          0,
          1
         ]
        }
       }
      }
     },
     "metadata": {},
     "output_type": "display_data"
    }
   ],
   "source": [
    "latest_n_values = 20\n",
    "df_pq_latest = df_pq[-latest_n_values:]\n",
    "\n",
    "fig = make_subplots(rows=1, cols=2,\n",
    "                    subplot_titles=(\"Goods\", \"Services\"),\n",
    "                    column_widths=[0.5, 0.5],\n",
    "                    horizontal_spacing=0.1,\n",
    "                    specs=[[{\"type\": \"scatter\"}, {\"type\": \"scatter\"}]],\n",
    "                    )\n",
    "\n",
    "fig.add_trace(\n",
    "    go.Scatter(x=df_pq_latest['Quantity (goods)'],\n",
    "               y=df_pq_latest['Price (goods)'],\n",
    "               mode='lines+markers+text',\n",
    "               name='goods',\n",
    "               # text=df_pq_latest.index,\n",
    "               text=[index if i%2==0 else '' for i, index in enumerate(df_pq_latest.index)],\n",
    "               textposition=\"top center\",\n",
    "               textfont=dict(size=10),\n",
    "               marker=dict(size=8, line=dict(width=1, color=\"black\")),\n",
    "               showlegend=False),\n",
    "    row=1, col=1\n",
    ")\n",
    "\n",
    "fig.update_xaxes(title_text=\"Quantity\",\n",
    "                 showgrid=True, gridcolor='lightgray', zeroline=False,\n",
    "                 row=1, col=1)\n",
    "fig.update_yaxes(title_text=\"Price (2012=100)\",\n",
    "                 showgrid=True, gridcolor='lightgray', zeroline=False,\n",
    "                 row=1, col=1)\n",
    "\n",
    "fig.add_trace(\n",
    "    go.Scatter(x=df_pq_latest['Quantity (services)'],\n",
    "               y=df_pq_latest['Price (services)'],\n",
    "               mode='lines+markers+text',\n",
    "               name='services',\n",
    "            #    text=df_pq_latest.index,\n",
    "               text=[index if i%2==0 else '' for i, index in enumerate(df_pq_latest.index)],\n",
    "               textposition=\"top left\",\n",
    "               textfont=dict(size=10),\n",
    "               marker=dict(size=8, line=dict(width=1, color=\"black\")),\n",
    "               showlegend=False),\n",
    "    row=1, col=2\n",
    ")\n",
    "\n",
    "fig.update_xaxes(title_text=\"Quantity\",\n",
    "                 showgrid=True, gridcolor='lightgray', zeroline=False,\n",
    "                 row=1, col=2)\n",
    "# fig.update_yaxes(title_text=\"Price\",\n",
    "#                  showgrid=True, gridcolor='lightgray', zeroline=False,\n",
    "#                  row=1, col=2)\n",
    "\n",
    "fig.update_layout(height=800, width=1200,\n",
    "                  title_x=0.5, title_y=0.97,\n",
    "                  margin=dict(l=50, r=50, t=50, b=50),\n",
    "                  title_text=\"Price and Quantities\",\n",
    "                  font=dict(family=\"Arial\", size=12, color=\"black\"),\n",
    "                  plot_bgcolor='white',\n",
    "                  )\n",
    "fig.show()"
   ]
  },
  {
   "cell_type": "code",
   "execution_count": 28,
   "metadata": {},
   "outputs": [
    {
     "data": {
      "application/vnd.plotly.v1+json": {
       "config": {
        "plotlyServerURL": "https://plot.ly"
       },
       "data": [
        {
         "marker": {
          "line": {
           "color": "black",
           "width": 1
          },
          "size": 8
         },
         "mode": "lines+markers+text",
         "name": "goods",
         "showlegend": false,
         "text": [
          "2004Q3",
          "2004Q4",
          "2005Q1",
          "2005Q2",
          "2005Q3",
          "2005Q4",
          "2006Q1",
          "2006Q2",
          "2006Q3",
          "2006Q4",
          "2007Q1",
          "2007Q2",
          "2007Q3",
          "2007Q4",
          "2008Q1",
          "2008Q2",
          "2008Q3",
          "2008Q4",
          "2009Q1",
          "2009Q2",
          "2009Q3",
          "2009Q4",
          "2010Q1",
          "2010Q2",
          "2010Q3",
          "2010Q4",
          "2011Q1",
          "2011Q2",
          "2011Q3",
          "2011Q4",
          "2012Q1",
          "2012Q2",
          "2012Q3",
          "2012Q4",
          "2013Q1",
          "2013Q2",
          "2013Q3",
          "2013Q4",
          "2014Q1",
          "2014Q2",
          "2014Q3",
          "2014Q4",
          "2015Q1",
          "2015Q2",
          "2015Q3",
          "2015Q4",
          "2016Q1",
          "2016Q2",
          "2016Q3",
          "2016Q4",
          "2017Q1",
          "2017Q2",
          "2017Q3",
          "2017Q4",
          "2018Q1",
          "2018Q2",
          "2018Q3",
          "2018Q4",
          "2019Q1",
          "2019Q2",
          "2019Q3",
          "2019Q4",
          "2020Q1",
          "2020Q2",
          "2020Q3",
          "2020Q4",
          "2021Q1",
          "2021Q2",
          "2021Q3",
          "2021Q4",
          "2022Q1",
          "2022Q2",
          "2022Q3",
          "2022Q4",
          "2023Q1",
          "2023Q2",
          "2023Q3",
          "2023Q4",
          "2024Q1",
          "2024Q2"
         ],
         "textfont": {
          "size": 10
         },
         "textposition": "bottom left",
         "type": "scatter",
         "x": [
          73.375,
          74.357,
          74.926,
          76.034,
          76.758,
          76.596,
          78.181,
          78.295,
          78.984,
          80.091,
          80.653,
          80.842,
          81.351,
          81.511,
          80.172,
          80.052,
          78.374,
          75.985,
          76.004,
          75.515,
          76.832,
          76.42,
          76.995,
          78.045,
          78.632,
          79.725,
          80.122,
          79.827,
          79.856,
          80.433,
          81.452,
          81.438,
          81.796,
          82.378,
          83.883,
          84.065,
          84.75,
          85.588,
          86.231,
          87.851,
          88.844,
          90.116,
          91.282,
          92.258,
          93.304,
          93.741,
          94.742,
          95.566,
          96.587,
          97.202,
          98.077,
          99.118,
          100.347,
          102.458,
          103.398,
          103.644,
          104.117,
          104.652,
          104.944,
          106.756,
          108.281,
          108.637,
          108.002,
          105.469,
          117.066,
          117.965,
          122.916,
          127.128,
          123.958,
          125.367,
          124.838,
          124.36,
          123.653,
          123.451,
          125.669,
          125.561,
          126.635,
          127.688,
          127.315,
          128.248
         ],
         "xaxis": "x",
         "y": [
          94.205,
          95.3,
          95.127,
          95.473,
          97.058,
          97.156,
          97.075,
          97.818,
          98.387,
          96.696,
          97.374,
          98.432,
          98.643,
          99.857,
          100.885,
          102.142,
          103.855,
          99.216,
          97.466,
          98.547,
          99.76,
          100.565,
          100.71,
          100.118,
          100.092,
          101.211,
          102.789,
          104.52,
          104.878,
          105.112,
          105.765,
          105.424,
          105.41,
          105.883,
          105.756,
          104.787,
          104.911,
          104.741,
          104.896,
          105.002,
          104.791,
          103.479,
          101.343,
          101.871,
          101.612,
          100.573,
          99.518,
          99.96,
          99.566,
          99.797,
          100.331,
          99.712,
          99.744,
          100.213,
          100.748,
          101.012,
          100.84,
          100.644,
          100.215,
          100.694,
          100.334,
          100.463,
          100.166,
          98.728,
          99.696,
          100.033,
          101.395,
          103.536,
          105.38,
          108.077,
          111.173,
          113.982,
          114.669,
          114.727,
          114.946,
          115.111,
          115.257,
          114.807,
          114.659,
          114.857
         ],
         "yaxis": "y"
        },
        {
         "marker": {
          "line": {
           "color": "black",
           "width": 1
          },
          "size": 8
         },
         "mode": "lines+markers+text",
         "name": "services",
         "showlegend": false,
         "text": [
          "2004Q3",
          "2004Q4",
          "2005Q1",
          "2005Q2",
          "2005Q3",
          "2005Q4",
          "2006Q1",
          "2006Q2",
          "2006Q3",
          "2006Q4",
          "2007Q1",
          "2007Q2",
          "2007Q3",
          "2007Q4",
          "2008Q1",
          "2008Q2",
          "2008Q3",
          "2008Q4",
          "2009Q1",
          "2009Q2",
          "2009Q3",
          "2009Q4",
          "2010Q1",
          "2010Q2",
          "2010Q3",
          "2010Q4",
          "2011Q1",
          "2011Q2",
          "2011Q3",
          "2011Q4",
          "2012Q1",
          "2012Q2",
          "2012Q3",
          "2012Q4",
          "2013Q1",
          "2013Q2",
          "2013Q3",
          "2013Q4",
          "2014Q1",
          "2014Q2",
          "2014Q3",
          "2014Q4",
          "2015Q1",
          "2015Q2",
          "2015Q3",
          "2015Q4",
          "2016Q1",
          "2016Q2",
          "2016Q3",
          "2016Q4",
          "2017Q1",
          "2017Q2",
          "2017Q3",
          "2017Q4",
          "2018Q1",
          "2018Q2",
          "2018Q3",
          "2018Q4",
          "2019Q1",
          "2019Q2",
          "2019Q3",
          "2019Q4",
          "2020Q1",
          "2020Q2",
          "2020Q3",
          "2020Q4",
          "2021Q1",
          "2021Q2",
          "2021Q3",
          "2021Q4",
          "2022Q1",
          "2022Q2",
          "2022Q3",
          "2022Q4",
          "2023Q1",
          "2023Q2",
          "2023Q3",
          "2023Q4",
          "2024Q1",
          "2024Q2"
         ],
         "textfont": {
          "size": 10
         },
         "textposition": "top left",
         "type": "scatter",
         "x": [
          80.19,
          81.007,
          81.464,
          82.204,
          82.83,
          83.161,
          83.631,
          84.233,
          84.666,
          85.273,
          85.76,
          85.998,
          86.589,
          87.021,
          87.593,
          88.025,
          87.947,
          88.09,
          87.744,
          87.369,
          87.512,
          87.595,
          88.032,
          88.628,
          89.244,
          89.459,
          89.748,
          90.047,
          90.439,
          90.352,
          90.762,
          91.009,
          91.088,
          91.313,
          91.382,
          91.675,
          91.865,
          92.625,
          92.782,
          93.26,
          94.116,
          95.074,
          95.565,
          96.05,
          96.53,
          96.895,
          97.485,
          97.799,
          98.31,
          98.761,
          99.459,
          99.693,
          100.11,
          100.737,
          101.376,
          102.062,
          102.535,
          102.761,
          102.869,
          103.335,
          104.364,
          105.197,
          102.875,
          90.88,
          98.154,
          99.86,
          101.17,
          104.52,
          107.148,
          108.289,
          108.924,
          110.195,
          111.145,
          111.738,
          112.774,
          113.232,
          113.823,
          114.817,
          115.784,
          116.57
         ],
         "xaxis": "x2",
         "y": [
          73.797,
          74.305,
          75.047,
          75.631,
          76.209,
          77.106,
          77.759,
          78.488,
          79.11,
          79.643,
          80.461,
          81.043,
          81.653,
          82.394,
          82.975,
          83.671,
          84.307,
          84.178,
          84.047,
          84.105,
          84.47,
          85.108,
          85.534,
          85.969,
          86.225,
          86.581,
          87.01,
          87.57,
          88.027,
          88.364,
          88.967,
          89.429,
          89.822,
          90.374,
          90.9,
          91.382,
          91.888,
          92.465,
          93.03,
          93.604,
          94.078,
          94.468,
          94.784,
          95.248,
          95.729,
          96.088,
          96.631,
          97.331,
          98.002,
          98.554,
          99.152,
          99.729,
          100.23,
          100.89,
          101.674,
          102.333,
          102.917,
          103.58,
          104.089,
          104.712,
          105.256,
          105.802,
          106.429,
          106.542,
          107.322,
          107.928,
          109.022,
          110.409,
          111.708,
          113.04,
          114.595,
          116.3,
          117.982,
          119.707,
          121.335,
          122.556,
          123.696,
          124.68,
          126.309,
          127.367
         ],
         "yaxis": "y2"
        }
       ],
       "layout": {
        "annotations": [
         {
          "font": {
           "size": 16
          },
          "showarrow": false,
          "text": "Goods",
          "x": 0.225,
          "xanchor": "center",
          "xref": "paper",
          "y": 1,
          "yanchor": "bottom",
          "yref": "paper"
         },
         {
          "font": {
           "size": 16
          },
          "showarrow": false,
          "text": "Services",
          "x": 0.775,
          "xanchor": "center",
          "xref": "paper",
          "y": 1,
          "yanchor": "bottom",
          "yref": "paper"
         }
        ],
        "font": {
         "color": "black",
         "family": "Arial",
         "size": 12
        },
        "height": 800,
        "margin": {
         "b": 50,
         "l": 50,
         "r": 50,
         "t": 50
        },
        "plot_bgcolor": "white",
        "template": {
         "data": {
          "bar": [
           {
            "error_x": {
             "color": "#2a3f5f"
            },
            "error_y": {
             "color": "#2a3f5f"
            },
            "marker": {
             "line": {
              "color": "#E5ECF6",
              "width": 0.5
             },
             "pattern": {
              "fillmode": "overlay",
              "size": 10,
              "solidity": 0.2
             }
            },
            "type": "bar"
           }
          ],
          "barpolar": [
           {
            "marker": {
             "line": {
              "color": "#E5ECF6",
              "width": 0.5
             },
             "pattern": {
              "fillmode": "overlay",
              "size": 10,
              "solidity": 0.2
             }
            },
            "type": "barpolar"
           }
          ],
          "carpet": [
           {
            "aaxis": {
             "endlinecolor": "#2a3f5f",
             "gridcolor": "white",
             "linecolor": "white",
             "minorgridcolor": "white",
             "startlinecolor": "#2a3f5f"
            },
            "baxis": {
             "endlinecolor": "#2a3f5f",
             "gridcolor": "white",
             "linecolor": "white",
             "minorgridcolor": "white",
             "startlinecolor": "#2a3f5f"
            },
            "type": "carpet"
           }
          ],
          "choropleth": [
           {
            "colorbar": {
             "outlinewidth": 0,
             "ticks": ""
            },
            "type": "choropleth"
           }
          ],
          "contour": [
           {
            "colorbar": {
             "outlinewidth": 0,
             "ticks": ""
            },
            "colorscale": [
             [
              0,
              "#0d0887"
             ],
             [
              0.1111111111111111,
              "#46039f"
             ],
             [
              0.2222222222222222,
              "#7201a8"
             ],
             [
              0.3333333333333333,
              "#9c179e"
             ],
             [
              0.4444444444444444,
              "#bd3786"
             ],
             [
              0.5555555555555556,
              "#d8576b"
             ],
             [
              0.6666666666666666,
              "#ed7953"
             ],
             [
              0.7777777777777778,
              "#fb9f3a"
             ],
             [
              0.8888888888888888,
              "#fdca26"
             ],
             [
              1,
              "#f0f921"
             ]
            ],
            "type": "contour"
           }
          ],
          "contourcarpet": [
           {
            "colorbar": {
             "outlinewidth": 0,
             "ticks": ""
            },
            "type": "contourcarpet"
           }
          ],
          "heatmap": [
           {
            "colorbar": {
             "outlinewidth": 0,
             "ticks": ""
            },
            "colorscale": [
             [
              0,
              "#0d0887"
             ],
             [
              0.1111111111111111,
              "#46039f"
             ],
             [
              0.2222222222222222,
              "#7201a8"
             ],
             [
              0.3333333333333333,
              "#9c179e"
             ],
             [
              0.4444444444444444,
              "#bd3786"
             ],
             [
              0.5555555555555556,
              "#d8576b"
             ],
             [
              0.6666666666666666,
              "#ed7953"
             ],
             [
              0.7777777777777778,
              "#fb9f3a"
             ],
             [
              0.8888888888888888,
              "#fdca26"
             ],
             [
              1,
              "#f0f921"
             ]
            ],
            "type": "heatmap"
           }
          ],
          "heatmapgl": [
           {
            "colorbar": {
             "outlinewidth": 0,
             "ticks": ""
            },
            "colorscale": [
             [
              0,
              "#0d0887"
             ],
             [
              0.1111111111111111,
              "#46039f"
             ],
             [
              0.2222222222222222,
              "#7201a8"
             ],
             [
              0.3333333333333333,
              "#9c179e"
             ],
             [
              0.4444444444444444,
              "#bd3786"
             ],
             [
              0.5555555555555556,
              "#d8576b"
             ],
             [
              0.6666666666666666,
              "#ed7953"
             ],
             [
              0.7777777777777778,
              "#fb9f3a"
             ],
             [
              0.8888888888888888,
              "#fdca26"
             ],
             [
              1,
              "#f0f921"
             ]
            ],
            "type": "heatmapgl"
           }
          ],
          "histogram": [
           {
            "marker": {
             "pattern": {
              "fillmode": "overlay",
              "size": 10,
              "solidity": 0.2
             }
            },
            "type": "histogram"
           }
          ],
          "histogram2d": [
           {
            "colorbar": {
             "outlinewidth": 0,
             "ticks": ""
            },
            "colorscale": [
             [
              0,
              "#0d0887"
             ],
             [
              0.1111111111111111,
              "#46039f"
             ],
             [
              0.2222222222222222,
              "#7201a8"
             ],
             [
              0.3333333333333333,
              "#9c179e"
             ],
             [
              0.4444444444444444,
              "#bd3786"
             ],
             [
              0.5555555555555556,
              "#d8576b"
             ],
             [
              0.6666666666666666,
              "#ed7953"
             ],
             [
              0.7777777777777778,
              "#fb9f3a"
             ],
             [
              0.8888888888888888,
              "#fdca26"
             ],
             [
              1,
              "#f0f921"
             ]
            ],
            "type": "histogram2d"
           }
          ],
          "histogram2dcontour": [
           {
            "colorbar": {
             "outlinewidth": 0,
             "ticks": ""
            },
            "colorscale": [
             [
              0,
              "#0d0887"
             ],
             [
              0.1111111111111111,
              "#46039f"
             ],
             [
              0.2222222222222222,
              "#7201a8"
             ],
             [
              0.3333333333333333,
              "#9c179e"
             ],
             [
              0.4444444444444444,
              "#bd3786"
             ],
             [
              0.5555555555555556,
              "#d8576b"
             ],
             [
              0.6666666666666666,
              "#ed7953"
             ],
             [
              0.7777777777777778,
              "#fb9f3a"
             ],
             [
              0.8888888888888888,
              "#fdca26"
             ],
             [
              1,
              "#f0f921"
             ]
            ],
            "type": "histogram2dcontour"
           }
          ],
          "mesh3d": [
           {
            "colorbar": {
             "outlinewidth": 0,
             "ticks": ""
            },
            "type": "mesh3d"
           }
          ],
          "parcoords": [
           {
            "line": {
             "colorbar": {
              "outlinewidth": 0,
              "ticks": ""
             }
            },
            "type": "parcoords"
           }
          ],
          "pie": [
           {
            "automargin": true,
            "type": "pie"
           }
          ],
          "scatter": [
           {
            "fillpattern": {
             "fillmode": "overlay",
             "size": 10,
             "solidity": 0.2
            },
            "type": "scatter"
           }
          ],
          "scatter3d": [
           {
            "line": {
             "colorbar": {
              "outlinewidth": 0,
              "ticks": ""
             }
            },
            "marker": {
             "colorbar": {
              "outlinewidth": 0,
              "ticks": ""
             }
            },
            "type": "scatter3d"
           }
          ],
          "scattercarpet": [
           {
            "marker": {
             "colorbar": {
              "outlinewidth": 0,
              "ticks": ""
             }
            },
            "type": "scattercarpet"
           }
          ],
          "scattergeo": [
           {
            "marker": {
             "colorbar": {
              "outlinewidth": 0,
              "ticks": ""
             }
            },
            "type": "scattergeo"
           }
          ],
          "scattergl": [
           {
            "marker": {
             "colorbar": {
              "outlinewidth": 0,
              "ticks": ""
             }
            },
            "type": "scattergl"
           }
          ],
          "scattermapbox": [
           {
            "marker": {
             "colorbar": {
              "outlinewidth": 0,
              "ticks": ""
             }
            },
            "type": "scattermapbox"
           }
          ],
          "scatterpolar": [
           {
            "marker": {
             "colorbar": {
              "outlinewidth": 0,
              "ticks": ""
             }
            },
            "type": "scatterpolar"
           }
          ],
          "scatterpolargl": [
           {
            "marker": {
             "colorbar": {
              "outlinewidth": 0,
              "ticks": ""
             }
            },
            "type": "scatterpolargl"
           }
          ],
          "scatterternary": [
           {
            "marker": {
             "colorbar": {
              "outlinewidth": 0,
              "ticks": ""
             }
            },
            "type": "scatterternary"
           }
          ],
          "surface": [
           {
            "colorbar": {
             "outlinewidth": 0,
             "ticks": ""
            },
            "colorscale": [
             [
              0,
              "#0d0887"
             ],
             [
              0.1111111111111111,
              "#46039f"
             ],
             [
              0.2222222222222222,
              "#7201a8"
             ],
             [
              0.3333333333333333,
              "#9c179e"
             ],
             [
              0.4444444444444444,
              "#bd3786"
             ],
             [
              0.5555555555555556,
              "#d8576b"
             ],
             [
              0.6666666666666666,
              "#ed7953"
             ],
             [
              0.7777777777777778,
              "#fb9f3a"
             ],
             [
              0.8888888888888888,
              "#fdca26"
             ],
             [
              1,
              "#f0f921"
             ]
            ],
            "type": "surface"
           }
          ],
          "table": [
           {
            "cells": {
             "fill": {
              "color": "#EBF0F8"
             },
             "line": {
              "color": "white"
             }
            },
            "header": {
             "fill": {
              "color": "#C8D4E3"
             },
             "line": {
              "color": "white"
             }
            },
            "type": "table"
           }
          ]
         },
         "layout": {
          "annotationdefaults": {
           "arrowcolor": "#2a3f5f",
           "arrowhead": 0,
           "arrowwidth": 1
          },
          "autotypenumbers": "strict",
          "coloraxis": {
           "colorbar": {
            "outlinewidth": 0,
            "ticks": ""
           }
          },
          "colorscale": {
           "diverging": [
            [
             0,
             "#8e0152"
            ],
            [
             0.1,
             "#c51b7d"
            ],
            [
             0.2,
             "#de77ae"
            ],
            [
             0.3,
             "#f1b6da"
            ],
            [
             0.4,
             "#fde0ef"
            ],
            [
             0.5,
             "#f7f7f7"
            ],
            [
             0.6,
             "#e6f5d0"
            ],
            [
             0.7,
             "#b8e186"
            ],
            [
             0.8,
             "#7fbc41"
            ],
            [
             0.9,
             "#4d9221"
            ],
            [
             1,
             "#276419"
            ]
           ],
           "sequential": [
            [
             0,
             "#0d0887"
            ],
            [
             0.1111111111111111,
             "#46039f"
            ],
            [
             0.2222222222222222,
             "#7201a8"
            ],
            [
             0.3333333333333333,
             "#9c179e"
            ],
            [
             0.4444444444444444,
             "#bd3786"
            ],
            [
             0.5555555555555556,
             "#d8576b"
            ],
            [
             0.6666666666666666,
             "#ed7953"
            ],
            [
             0.7777777777777778,
             "#fb9f3a"
            ],
            [
             0.8888888888888888,
             "#fdca26"
            ],
            [
             1,
             "#f0f921"
            ]
           ],
           "sequentialminus": [
            [
             0,
             "#0d0887"
            ],
            [
             0.1111111111111111,
             "#46039f"
            ],
            [
             0.2222222222222222,
             "#7201a8"
            ],
            [
             0.3333333333333333,
             "#9c179e"
            ],
            [
             0.4444444444444444,
             "#bd3786"
            ],
            [
             0.5555555555555556,
             "#d8576b"
            ],
            [
             0.6666666666666666,
             "#ed7953"
            ],
            [
             0.7777777777777778,
             "#fb9f3a"
            ],
            [
             0.8888888888888888,
             "#fdca26"
            ],
            [
             1,
             "#f0f921"
            ]
           ]
          },
          "colorway": [
           "#636efa",
           "#EF553B",
           "#00cc96",
           "#ab63fa",
           "#FFA15A",
           "#19d3f3",
           "#FF6692",
           "#B6E880",
           "#FF97FF",
           "#FECB52"
          ],
          "font": {
           "color": "#2a3f5f"
          },
          "geo": {
           "bgcolor": "white",
           "lakecolor": "white",
           "landcolor": "#E5ECF6",
           "showlakes": true,
           "showland": true,
           "subunitcolor": "white"
          },
          "hoverlabel": {
           "align": "left"
          },
          "hovermode": "closest",
          "mapbox": {
           "style": "light"
          },
          "paper_bgcolor": "white",
          "plot_bgcolor": "#E5ECF6",
          "polar": {
           "angularaxis": {
            "gridcolor": "white",
            "linecolor": "white",
            "ticks": ""
           },
           "bgcolor": "#E5ECF6",
           "radialaxis": {
            "gridcolor": "white",
            "linecolor": "white",
            "ticks": ""
           }
          },
          "scene": {
           "xaxis": {
            "backgroundcolor": "#E5ECF6",
            "gridcolor": "white",
            "gridwidth": 2,
            "linecolor": "white",
            "showbackground": true,
            "ticks": "",
            "zerolinecolor": "white"
           },
           "yaxis": {
            "backgroundcolor": "#E5ECF6",
            "gridcolor": "white",
            "gridwidth": 2,
            "linecolor": "white",
            "showbackground": true,
            "ticks": "",
            "zerolinecolor": "white"
           },
           "zaxis": {
            "backgroundcolor": "#E5ECF6",
            "gridcolor": "white",
            "gridwidth": 2,
            "linecolor": "white",
            "showbackground": true,
            "ticks": "",
            "zerolinecolor": "white"
           }
          },
          "shapedefaults": {
           "line": {
            "color": "#2a3f5f"
           }
          },
          "ternary": {
           "aaxis": {
            "gridcolor": "white",
            "linecolor": "white",
            "ticks": ""
           },
           "baxis": {
            "gridcolor": "white",
            "linecolor": "white",
            "ticks": ""
           },
           "bgcolor": "#E5ECF6",
           "caxis": {
            "gridcolor": "white",
            "linecolor": "white",
            "ticks": ""
           }
          },
          "title": {
           "x": 0.05
          },
          "xaxis": {
           "automargin": true,
           "gridcolor": "white",
           "linecolor": "white",
           "ticks": "",
           "title": {
            "standoff": 15
           },
           "zerolinecolor": "white",
           "zerolinewidth": 2
          },
          "yaxis": {
           "automargin": true,
           "gridcolor": "white",
           "linecolor": "white",
           "ticks": "",
           "title": {
            "standoff": 15
           },
           "zerolinecolor": "white",
           "zerolinewidth": 2
          }
         }
        },
        "title": {
         "text": "Price and Quantities",
         "x": 0.5,
         "y": 0.97
        },
        "width": 1200,
        "xaxis": {
         "anchor": "y",
         "domain": [
          0,
          0.45
         ],
         "gridcolor": "lightgray",
         "range": [
          70,
          130
         ],
         "showgrid": true,
         "title": {
          "text": "Quantity"
         },
         "zeroline": false
        },
        "xaxis2": {
         "anchor": "y2",
         "domain": [
          0.55,
          1
         ],
         "gridcolor": "lightgray",
         "showgrid": true,
         "title": {
          "text": "Quantity"
         },
         "zeroline": false
        },
        "yaxis": {
         "anchor": "x",
         "domain": [
          0,
          1
         ],
         "gridcolor": "lightgray",
         "range": [
          80,
          130
         ],
         "showgrid": true,
         "title": {
          "text": "Price (2012=100)"
         },
         "zeroline": false
        },
        "yaxis2": {
         "anchor": "x2",
         "domain": [
          0,
          1
         ]
        }
       }
      }
     },
     "metadata": {},
     "output_type": "display_data"
    }
   ],
   "source": [
    "latest_n_values = 80\n",
    "df_pq_latest = df_pq[-latest_n_values:]\n",
    "\n",
    "fig = make_subplots(rows=1, cols=2,\n",
    "                    subplot_titles=(\"Goods\", \"Services\"),\n",
    "                    column_widths=[0.5, 0.5],\n",
    "                    horizontal_spacing=0.1,\n",
    "                    specs=[[{\"type\": \"scatter\"}, {\"type\": \"scatter\"}]],\n",
    "                    )\n",
    "\n",
    "fig.add_trace(\n",
    "    go.Scatter(x=df_pq_latest['Quantity (goods)'],\n",
    "               y=df_pq_latest['Price (goods)'],\n",
    "               mode='lines+markers+text',\n",
    "               name='goods',\n",
    "               text=df_pq_latest.index,\n",
    "            #    text=[index if i%2==0 else '' for i, index in enumerate(df_pq_latest.index)],\n",
    "               textposition=\"bottom left\",\n",
    "               textfont=dict(size=10),\n",
    "               marker=dict(size=8, line=dict(width=1, color=\"black\")),\n",
    "               showlegend=False),\n",
    "    row=1, col=1\n",
    ")\n",
    "\n",
    "fig.update_xaxes(title_text=\"Quantity\",\n",
    "                 showgrid=True, gridcolor='lightgray', zeroline=False,\n",
    "                 row=1, col=1)\n",
    "fig.update_yaxes(title_text=\"Price (2012=100)\",\n",
    "                 showgrid=True, gridcolor='lightgray', zeroline=False,\n",
    "                 row=1, col=1)\n",
    "\n",
    "fig.add_trace(\n",
    "    go.Scatter(x=df_pq_latest['Quantity (services)'],\n",
    "               y=df_pq_latest['Price (services)'],\n",
    "               mode='lines+markers+text',\n",
    "               name='services',\n",
    "               text=df_pq_latest.index,\n",
    "            #    text=[index if i%2==0 else '' for i, index in enumerate(df_pq_latest.index)],\n",
    "               textposition=\"top left\",\n",
    "               textfont=dict(size=10),\n",
    "               marker=dict(size=8, line=dict(width=1, color=\"black\")),\n",
    "               showlegend=False),\n",
    "    row=1, col=2\n",
    ")\n",
    "\n",
    "fig.update_xaxes(title_text=\"Quantity\",\n",
    "                 showgrid=True, gridcolor='lightgray', zeroline=False,\n",
    "                 row=1, col=2)\n",
    "# fig.update_yaxes(title_text=\"Price\",\n",
    "#                  showgrid=True, gridcolor='lightgray', zeroline=False,\n",
    "#                  row=1, col=2)\n",
    "\n",
    "fig.update_layout(height=800, width=1200,\n",
    "                  title_x=0.5, title_y=0.97,\n",
    "                  margin=dict(l=50, r=50, t=50, b=50),\n",
    "                  title_text=\"Price and Quantities\",\n",
    "                  font=dict(family=\"Arial\", size=12, color=\"black\"),\n",
    "                  plot_bgcolor='white',\n",
    "                  yaxis_range=[80,130],\n",
    "                  xaxis_range=[70,130]\n",
    "\n",
    "                  )\n",
    "fig.show()"
   ]
  }
 ],
 "metadata": {
  "kernelspec": {
   "display_name": ".venv",
   "language": "python",
   "name": "python3"
  },
  "language_info": {
   "codemirror_mode": {
    "name": "ipython",
    "version": 3
   },
   "file_extension": ".py",
   "mimetype": "text/x-python",
   "name": "python",
   "nbconvert_exporter": "python",
   "pygments_lexer": "ipython3",
   "version": "3.9.6"
  },
  "orig_nbformat": 4
 },
 "nbformat": 4,
 "nbformat_minor": 2
}
