{
 "cells": [
  {
   "cell_type": "code",
   "execution_count": 5,
   "metadata": {},
   "outputs": [],
   "source": [
    "import requests\n",
    "import pandas as pd\n",
    "from plotly.subplots import make_subplots\n",
    "import plotly.graph_objs as go"
   ]
  },
  {
   "attachments": {},
   "cell_type": "markdown",
   "metadata": {},
   "source": [
    "### Set up and run the API"
   ]
  },
  {
   "cell_type": "code",
   "execution_count": 2,
   "metadata": {},
   "outputs": [],
   "source": [
    "parameters = {\n",
    "    \"UserID\": '9452074C-9BA9-4108-B38D-55B924516C1C',\n",
    "    \"Method\": \"GetData\",\n",
    "    \"Datasetname\": \"NIPA\",\n",
    "    \"TableName\": \"T20303\",\n",
    "    \"Frequency\": \"Q\",\n",
    "    \"Year\": \"ALL\",\n",
    "    \"ResultFormat\": \"JSON\"\n",
    "}\n",
    "response = requests.get('https://apps.bea.gov/api/data/', params=parameters)\n",
    "\n",
    "data = response.json()[\"BEAAPI\"][\"Results\"][\"Data\"]\n",
    "df_quantity = pd.DataFrame(data)\n",
    "df_quantity[\"DataValue\"] = pd.to_numeric(df_quantity[\"DataValue\"])\n",
    "df_quantity = df_quantity.pivot_table(index=\"TimePeriod\", columns=\"LineDescription\", values=\"DataValue\")\n",
    "# df_quantity.head(10)\n",
    "\n",
    "parameters = {\n",
    "    \"UserID\": '9452074C-9BA9-4108-B38D-55B924516C1C',\n",
    "    \"Method\": \"GetData\",\n",
    "    \"Datasetname\": \"NIPA\",\n",
    "    \"TableName\": \"T20304\",\n",
    "    \"Frequency\": \"Q\",\n",
    "    \"Year\": \"ALL\",\n",
    "    \"ResultFormat\": \"JSON\"\n",
    "}\n",
    "response = requests.get('https://apps.bea.gov/api/data/', params=parameters)\n",
    "\n",
    "data = response.json()[\"BEAAPI\"][\"Results\"][\"Data\"]\n",
    "df_price = pd.DataFrame(data)\n",
    "df_price[\"DataValue\"] = pd.to_numeric(df_price[\"DataValue\"])\n",
    "df_price = df_price.pivot_table(index=\"TimePeriod\", columns=\"LineDescription\", values=\"DataValue\")\n",
    "# df_price.head(20)"
   ]
  },
  {
   "attachments": {},
   "cell_type": "markdown",
   "metadata": {},
   "source": [
    "### Merge price and quantities into a dataframe"
   ]
  },
  {
   "cell_type": "code",
   "execution_count": 3,
   "metadata": {},
   "outputs": [
    {
     "data": {
      "text/html": [
       "<div>\n",
       "<style scoped>\n",
       "    .dataframe tbody tr th:only-of-type {\n",
       "        vertical-align: middle;\n",
       "    }\n",
       "\n",
       "    .dataframe tbody tr th {\n",
       "        vertical-align: top;\n",
       "    }\n",
       "\n",
       "    .dataframe thead th {\n",
       "        text-align: right;\n",
       "    }\n",
       "</style>\n",
       "<table border=\"1\" class=\"dataframe\">\n",
       "  <thead>\n",
       "    <tr style=\"text-align: right;\">\n",
       "      <th>LineDescription</th>\n",
       "      <th>Quantity (goods)</th>\n",
       "      <th>Quantity (services)</th>\n",
       "      <th>Price (goods)</th>\n",
       "      <th>Price (services)</th>\n",
       "    </tr>\n",
       "    <tr>\n",
       "      <th>TimePeriod</th>\n",
       "      <th></th>\n",
       "      <th></th>\n",
       "      <th></th>\n",
       "      <th></th>\n",
       "    </tr>\n",
       "  </thead>\n",
       "  <tbody>\n",
       "    <tr>\n",
       "      <th>1947Q1</th>\n",
       "      <td>12.230</td>\n",
       "      <td>10.423</td>\n",
       "      <td>21.491</td>\n",
       "      <td>7.842</td>\n",
       "    </tr>\n",
       "    <tr>\n",
       "      <th>1947Q2</th>\n",
       "      <td>12.450</td>\n",
       "      <td>10.574</td>\n",
       "      <td>21.697</td>\n",
       "      <td>7.885</td>\n",
       "    </tr>\n",
       "    <tr>\n",
       "      <th>1947Q3</th>\n",
       "      <td>12.533</td>\n",
       "      <td>10.552</td>\n",
       "      <td>22.029</td>\n",
       "      <td>8.074</td>\n",
       "    </tr>\n",
       "    <tr>\n",
       "      <th>1947Q4</th>\n",
       "      <td>12.580</td>\n",
       "      <td>10.497</td>\n",
       "      <td>22.609</td>\n",
       "      <td>8.257</td>\n",
       "    </tr>\n",
       "    <tr>\n",
       "      <th>1948Q1</th>\n",
       "      <td>12.599</td>\n",
       "      <td>10.609</td>\n",
       "      <td>22.934</td>\n",
       "      <td>8.305</td>\n",
       "    </tr>\n",
       "  </tbody>\n",
       "</table>\n",
       "</div>"
      ],
      "text/plain": [
       "LineDescription  Quantity (goods)  Quantity (services)  Price (goods)  \\\n",
       "TimePeriod                                                              \n",
       "1947Q1                     12.230               10.423         21.491   \n",
       "1947Q2                     12.450               10.574         21.697   \n",
       "1947Q3                     12.533               10.552         22.029   \n",
       "1947Q4                     12.580               10.497         22.609   \n",
       "1948Q1                     12.599               10.609         22.934   \n",
       "\n",
       "LineDescription  Price (services)  \n",
       "TimePeriod                         \n",
       "1947Q1                      7.842  \n",
       "1947Q2                      7.885  \n",
       "1947Q3                      8.074  \n",
       "1947Q4                      8.257  \n",
       "1948Q1                      8.305  "
      ]
     },
     "execution_count": 3,
     "metadata": {},
     "output_type": "execute_result"
    }
   ],
   "source": [
    "df_pq = df_quantity[['Goods', 'Services']]\n",
    "df_pq = df_pq.rename(columns = {'Goods': 'Quantity (goods)', 'Services': 'Quantity (services)'})\n",
    "df_pq['Price (goods)'] = df_price['Goods']\n",
    "df_pq['Price (services)'] = df_price['Services']\n"
   ]
  },
  {
   "attachments": {},
   "cell_type": "markdown",
   "metadata": {},
   "source": [
    "#### Show the dataset"
   ]
  },
  {
   "cell_type": "code",
   "execution_count": 4,
   "metadata": {},
   "outputs": [
    {
     "data": {
      "text/html": [
       "<div>\n",
       "<style scoped>\n",
       "    .dataframe tbody tr th:only-of-type {\n",
       "        vertical-align: middle;\n",
       "    }\n",
       "\n",
       "    .dataframe tbody tr th {\n",
       "        vertical-align: top;\n",
       "    }\n",
       "\n",
       "    .dataframe thead th {\n",
       "        text-align: right;\n",
       "    }\n",
       "</style>\n",
       "<table border=\"1\" class=\"dataframe\">\n",
       "  <thead>\n",
       "    <tr style=\"text-align: right;\">\n",
       "      <th>LineDescription</th>\n",
       "      <th>Quantity (goods)</th>\n",
       "      <th>Quantity (services)</th>\n",
       "      <th>Price (goods)</th>\n",
       "      <th>Price (services)</th>\n",
       "    </tr>\n",
       "    <tr>\n",
       "      <th>TimePeriod</th>\n",
       "      <th></th>\n",
       "      <th></th>\n",
       "      <th></th>\n",
       "      <th></th>\n",
       "    </tr>\n",
       "  </thead>\n",
       "  <tbody>\n",
       "    <tr>\n",
       "      <th>2018Q3</th>\n",
       "      <td>126.095</td>\n",
       "      <td>112.428</td>\n",
       "      <td>95.335</td>\n",
       "      <td>115.433</td>\n",
       "    </tr>\n",
       "    <tr>\n",
       "      <th>2018Q4</th>\n",
       "      <td>127.114</td>\n",
       "      <td>112.732</td>\n",
       "      <td>95.095</td>\n",
       "      <td>116.198</td>\n",
       "    </tr>\n",
       "    <tr>\n",
       "      <th>2019Q1</th>\n",
       "      <td>127.100</td>\n",
       "      <td>112.895</td>\n",
       "      <td>94.785</td>\n",
       "      <td>116.721</td>\n",
       "    </tr>\n",
       "    <tr>\n",
       "      <th>2019Q2</th>\n",
       "      <td>128.801</td>\n",
       "      <td>113.265</td>\n",
       "      <td>95.216</td>\n",
       "      <td>117.519</td>\n",
       "    </tr>\n",
       "    <tr>\n",
       "      <th>2019Q3</th>\n",
       "      <td>130.630</td>\n",
       "      <td>113.922</td>\n",
       "      <td>94.877</td>\n",
       "      <td>118.159</td>\n",
       "    </tr>\n",
       "    <tr>\n",
       "      <th>2019Q4</th>\n",
       "      <td>131.544</td>\n",
       "      <td>114.519</td>\n",
       "      <td>94.913</td>\n",
       "      <td>118.765</td>\n",
       "    </tr>\n",
       "    <tr>\n",
       "      <th>2020Q1</th>\n",
       "      <td>131.538</td>\n",
       "      <td>111.890</td>\n",
       "      <td>94.727</td>\n",
       "      <td>119.509</td>\n",
       "    </tr>\n",
       "    <tr>\n",
       "      <th>2020Q2</th>\n",
       "      <td>127.857</td>\n",
       "      <td>98.311</td>\n",
       "      <td>93.416</td>\n",
       "      <td>119.511</td>\n",
       "    </tr>\n",
       "    <tr>\n",
       "      <th>2020Q3</th>\n",
       "      <td>142.706</td>\n",
       "      <td>106.388</td>\n",
       "      <td>94.345</td>\n",
       "      <td>120.416</td>\n",
       "    </tr>\n",
       "    <tr>\n",
       "      <th>2020Q4</th>\n",
       "      <td>142.823</td>\n",
       "      <td>107.885</td>\n",
       "      <td>94.461</td>\n",
       "      <td>121.095</td>\n",
       "    </tr>\n",
       "    <tr>\n",
       "      <th>2021Q1</th>\n",
       "      <td>151.096</td>\n",
       "      <td>108.944</td>\n",
       "      <td>95.803</td>\n",
       "      <td>122.248</td>\n",
       "    </tr>\n",
       "    <tr>\n",
       "      <th>2021Q2</th>\n",
       "      <td>155.313</td>\n",
       "      <td>112.145</td>\n",
       "      <td>97.882</td>\n",
       "      <td>123.791</td>\n",
       "    </tr>\n",
       "    <tr>\n",
       "      <th>2021Q3</th>\n",
       "      <td>152.144</td>\n",
       "      <td>114.639</td>\n",
       "      <td>99.688</td>\n",
       "      <td>125.185</td>\n",
       "    </tr>\n",
       "    <tr>\n",
       "      <th>2021Q4</th>\n",
       "      <td>153.027</td>\n",
       "      <td>115.637</td>\n",
       "      <td>101.923</td>\n",
       "      <td>126.607</td>\n",
       "    </tr>\n",
       "    <tr>\n",
       "      <th>2022Q1</th>\n",
       "      <td>152.999</td>\n",
       "      <td>116.240</td>\n",
       "      <td>104.987</td>\n",
       "      <td>128.126</td>\n",
       "    </tr>\n",
       "    <tr>\n",
       "      <th>2022Q2</th>\n",
       "      <td>152.007</td>\n",
       "      <td>117.545</td>\n",
       "      <td>107.670</td>\n",
       "      <td>129.875</td>\n",
       "    </tr>\n",
       "    <tr>\n",
       "      <th>2022Q3</th>\n",
       "      <td>151.867</td>\n",
       "      <td>118.608</td>\n",
       "      <td>108.402</td>\n",
       "      <td>131.516</td>\n",
       "    </tr>\n",
       "    <tr>\n",
       "      <th>2022Q4</th>\n",
       "      <td>151.841</td>\n",
       "      <td>119.078</td>\n",
       "      <td>108.265</td>\n",
       "      <td>133.443</td>\n",
       "    </tr>\n",
       "  </tbody>\n",
       "</table>\n",
       "</div>"
      ],
      "text/plain": [
       "LineDescription  Quantity (goods)  Quantity (services)  Price (goods)  \\\n",
       "TimePeriod                                                              \n",
       "2018Q3                    126.095              112.428         95.335   \n",
       "2018Q4                    127.114              112.732         95.095   \n",
       "2019Q1                    127.100              112.895         94.785   \n",
       "2019Q2                    128.801              113.265         95.216   \n",
       "2019Q3                    130.630              113.922         94.877   \n",
       "2019Q4                    131.544              114.519         94.913   \n",
       "2020Q1                    131.538              111.890         94.727   \n",
       "2020Q2                    127.857               98.311         93.416   \n",
       "2020Q3                    142.706              106.388         94.345   \n",
       "2020Q4                    142.823              107.885         94.461   \n",
       "2021Q1                    151.096              108.944         95.803   \n",
       "2021Q2                    155.313              112.145         97.882   \n",
       "2021Q3                    152.144              114.639         99.688   \n",
       "2021Q4                    153.027              115.637        101.923   \n",
       "2022Q1                    152.999              116.240        104.987   \n",
       "2022Q2                    152.007              117.545        107.670   \n",
       "2022Q3                    151.867              118.608        108.402   \n",
       "2022Q4                    151.841              119.078        108.265   \n",
       "\n",
       "LineDescription  Price (services)  \n",
       "TimePeriod                         \n",
       "2018Q3                    115.433  \n",
       "2018Q4                    116.198  \n",
       "2019Q1                    116.721  \n",
       "2019Q2                    117.519  \n",
       "2019Q3                    118.159  \n",
       "2019Q4                    118.765  \n",
       "2020Q1                    119.509  \n",
       "2020Q2                    119.511  \n",
       "2020Q3                    120.416  \n",
       "2020Q4                    121.095  \n",
       "2021Q1                    122.248  \n",
       "2021Q2                    123.791  \n",
       "2021Q3                    125.185  \n",
       "2021Q4                    126.607  \n",
       "2022Q1                    128.126  \n",
       "2022Q2                    129.875  \n",
       "2022Q3                    131.516  \n",
       "2022Q4                    133.443  "
      ]
     },
     "execution_count": 4,
     "metadata": {},
     "output_type": "execute_result"
    }
   ],
   "source": [
    "latest_n_values = 18\n",
    "df_pq_latest = df_pq[-latest_n_values:]\n",
    "df_pq_latest.head(latest_n_values)"
   ]
  },
  {
   "attachments": {},
   "cell_type": "markdown",
   "metadata": {},
   "source": [
    "### Make scatter plots"
   ]
  },
  {
   "cell_type": "code",
   "execution_count": 14,
   "metadata": {},
   "outputs": [
    {
     "data": {
      "application/vnd.plotly.v1+json": {
       "config": {
        "plotlyServerURL": "https://plotly.com"
       },
       "data": [
        {
         "marker": {
          "line": {
           "color": "black",
           "width": 1
          },
          "size": 8
         },
         "mode": "lines+markers+text",
         "name": "goods",
         "showlegend": false,
         "text": [
          "2018Q3",
          "",
          "2019Q1",
          "",
          "2019Q3",
          "",
          "2020Q1",
          "",
          "2020Q3",
          "",
          "2021Q1",
          "",
          "2021Q3",
          "",
          "2022Q1",
          "",
          "2022Q3",
          ""
         ],
         "textfont": {
          "size": 10
         },
         "textposition": "top center",
         "type": "scatter",
         "x": [
          126.095,
          127.114,
          127.1,
          128.801,
          130.63,
          131.544,
          131.538,
          127.857,
          142.706,
          142.823,
          151.096,
          155.313,
          152.144,
          153.027,
          152.999,
          152.007,
          151.867,
          151.841
         ],
         "xaxis": "x",
         "y": [
          95.335,
          95.095,
          94.785,
          95.216,
          94.877,
          94.913,
          94.727,
          93.416,
          94.345,
          94.461,
          95.803,
          97.882,
          99.688,
          101.923,
          104.987,
          107.67,
          108.402,
          108.265
         ],
         "yaxis": "y"
        },
        {
         "marker": {
          "line": {
           "color": "black",
           "width": 1
          },
          "size": 8
         },
         "mode": "lines+markers+text",
         "name": "services",
         "showlegend": false,
         "text": [
          "2018Q3",
          "",
          "2019Q1",
          "",
          "2019Q3",
          "",
          "2020Q1",
          "",
          "2020Q3",
          "",
          "2021Q1",
          "",
          "2021Q3",
          "",
          "2022Q1",
          "",
          "2022Q3",
          ""
         ],
         "textfont": {
          "size": 10
         },
         "textposition": "top left",
         "type": "scatter",
         "x": [
          112.428,
          112.732,
          112.895,
          113.265,
          113.922,
          114.519,
          111.89,
          98.311,
          106.388,
          107.885,
          108.944,
          112.145,
          114.639,
          115.637,
          116.24,
          117.545,
          118.608,
          119.078
         ],
         "xaxis": "x2",
         "y": [
          115.433,
          116.198,
          116.721,
          117.519,
          118.159,
          118.765,
          119.509,
          119.511,
          120.416,
          121.095,
          122.248,
          123.791,
          125.185,
          126.607,
          128.126,
          129.875,
          131.516,
          133.443
         ],
         "yaxis": "y2"
        }
       ],
       "layout": {
        "annotations": [
         {
          "font": {
           "size": 16
          },
          "showarrow": false,
          "text": "Goods",
          "x": 0.225,
          "xanchor": "center",
          "xref": "paper",
          "y": 1,
          "yanchor": "bottom",
          "yref": "paper"
         },
         {
          "font": {
           "size": 16
          },
          "showarrow": false,
          "text": "Services",
          "x": 0.775,
          "xanchor": "center",
          "xref": "paper",
          "y": 1,
          "yanchor": "bottom",
          "yref": "paper"
         }
        ],
        "font": {
         "color": "black",
         "family": "Arial",
         "size": 12
        },
        "height": 500,
        "margin": {
         "b": 50,
         "l": 50,
         "r": 50,
         "t": 50
        },
        "plot_bgcolor": "white",
        "template": {
         "data": {
          "bar": [
           {
            "error_x": {
             "color": "#2a3f5f"
            },
            "error_y": {
             "color": "#2a3f5f"
            },
            "marker": {
             "line": {
              "color": "#E5ECF6",
              "width": 0.5
             },
             "pattern": {
              "fillmode": "overlay",
              "size": 10,
              "solidity": 0.2
             }
            },
            "type": "bar"
           }
          ],
          "barpolar": [
           {
            "marker": {
             "line": {
              "color": "#E5ECF6",
              "width": 0.5
             },
             "pattern": {
              "fillmode": "overlay",
              "size": 10,
              "solidity": 0.2
             }
            },
            "type": "barpolar"
           }
          ],
          "carpet": [
           {
            "aaxis": {
             "endlinecolor": "#2a3f5f",
             "gridcolor": "white",
             "linecolor": "white",
             "minorgridcolor": "white",
             "startlinecolor": "#2a3f5f"
            },
            "baxis": {
             "endlinecolor": "#2a3f5f",
             "gridcolor": "white",
             "linecolor": "white",
             "minorgridcolor": "white",
             "startlinecolor": "#2a3f5f"
            },
            "type": "carpet"
           }
          ],
          "choropleth": [
           {
            "colorbar": {
             "outlinewidth": 0,
             "ticks": ""
            },
            "type": "choropleth"
           }
          ],
          "contour": [
           {
            "colorbar": {
             "outlinewidth": 0,
             "ticks": ""
            },
            "colorscale": [
             [
              0,
              "#0d0887"
             ],
             [
              0.1111111111111111,
              "#46039f"
             ],
             [
              0.2222222222222222,
              "#7201a8"
             ],
             [
              0.3333333333333333,
              "#9c179e"
             ],
             [
              0.4444444444444444,
              "#bd3786"
             ],
             [
              0.5555555555555556,
              "#d8576b"
             ],
             [
              0.6666666666666666,
              "#ed7953"
             ],
             [
              0.7777777777777778,
              "#fb9f3a"
             ],
             [
              0.8888888888888888,
              "#fdca26"
             ],
             [
              1,
              "#f0f921"
             ]
            ],
            "type": "contour"
           }
          ],
          "contourcarpet": [
           {
            "colorbar": {
             "outlinewidth": 0,
             "ticks": ""
            },
            "type": "contourcarpet"
           }
          ],
          "heatmap": [
           {
            "colorbar": {
             "outlinewidth": 0,
             "ticks": ""
            },
            "colorscale": [
             [
              0,
              "#0d0887"
             ],
             [
              0.1111111111111111,
              "#46039f"
             ],
             [
              0.2222222222222222,
              "#7201a8"
             ],
             [
              0.3333333333333333,
              "#9c179e"
             ],
             [
              0.4444444444444444,
              "#bd3786"
             ],
             [
              0.5555555555555556,
              "#d8576b"
             ],
             [
              0.6666666666666666,
              "#ed7953"
             ],
             [
              0.7777777777777778,
              "#fb9f3a"
             ],
             [
              0.8888888888888888,
              "#fdca26"
             ],
             [
              1,
              "#f0f921"
             ]
            ],
            "type": "heatmap"
           }
          ],
          "heatmapgl": [
           {
            "colorbar": {
             "outlinewidth": 0,
             "ticks": ""
            },
            "colorscale": [
             [
              0,
              "#0d0887"
             ],
             [
              0.1111111111111111,
              "#46039f"
             ],
             [
              0.2222222222222222,
              "#7201a8"
             ],
             [
              0.3333333333333333,
              "#9c179e"
             ],
             [
              0.4444444444444444,
              "#bd3786"
             ],
             [
              0.5555555555555556,
              "#d8576b"
             ],
             [
              0.6666666666666666,
              "#ed7953"
             ],
             [
              0.7777777777777778,
              "#fb9f3a"
             ],
             [
              0.8888888888888888,
              "#fdca26"
             ],
             [
              1,
              "#f0f921"
             ]
            ],
            "type": "heatmapgl"
           }
          ],
          "histogram": [
           {
            "marker": {
             "pattern": {
              "fillmode": "overlay",
              "size": 10,
              "solidity": 0.2
             }
            },
            "type": "histogram"
           }
          ],
          "histogram2d": [
           {
            "colorbar": {
             "outlinewidth": 0,
             "ticks": ""
            },
            "colorscale": [
             [
              0,
              "#0d0887"
             ],
             [
              0.1111111111111111,
              "#46039f"
             ],
             [
              0.2222222222222222,
              "#7201a8"
             ],
             [
              0.3333333333333333,
              "#9c179e"
             ],
             [
              0.4444444444444444,
              "#bd3786"
             ],
             [
              0.5555555555555556,
              "#d8576b"
             ],
             [
              0.6666666666666666,
              "#ed7953"
             ],
             [
              0.7777777777777778,
              "#fb9f3a"
             ],
             [
              0.8888888888888888,
              "#fdca26"
             ],
             [
              1,
              "#f0f921"
             ]
            ],
            "type": "histogram2d"
           }
          ],
          "histogram2dcontour": [
           {
            "colorbar": {
             "outlinewidth": 0,
             "ticks": ""
            },
            "colorscale": [
             [
              0,
              "#0d0887"
             ],
             [
              0.1111111111111111,
              "#46039f"
             ],
             [
              0.2222222222222222,
              "#7201a8"
             ],
             [
              0.3333333333333333,
              "#9c179e"
             ],
             [
              0.4444444444444444,
              "#bd3786"
             ],
             [
              0.5555555555555556,
              "#d8576b"
             ],
             [
              0.6666666666666666,
              "#ed7953"
             ],
             [
              0.7777777777777778,
              "#fb9f3a"
             ],
             [
              0.8888888888888888,
              "#fdca26"
             ],
             [
              1,
              "#f0f921"
             ]
            ],
            "type": "histogram2dcontour"
           }
          ],
          "mesh3d": [
           {
            "colorbar": {
             "outlinewidth": 0,
             "ticks": ""
            },
            "type": "mesh3d"
           }
          ],
          "parcoords": [
           {
            "line": {
             "colorbar": {
              "outlinewidth": 0,
              "ticks": ""
             }
            },
            "type": "parcoords"
           }
          ],
          "pie": [
           {
            "automargin": true,
            "type": "pie"
           }
          ],
          "scatter": [
           {
            "fillpattern": {
             "fillmode": "overlay",
             "size": 10,
             "solidity": 0.2
            },
            "type": "scatter"
           }
          ],
          "scatter3d": [
           {
            "line": {
             "colorbar": {
              "outlinewidth": 0,
              "ticks": ""
             }
            },
            "marker": {
             "colorbar": {
              "outlinewidth": 0,
              "ticks": ""
             }
            },
            "type": "scatter3d"
           }
          ],
          "scattercarpet": [
           {
            "marker": {
             "colorbar": {
              "outlinewidth": 0,
              "ticks": ""
             }
            },
            "type": "scattercarpet"
           }
          ],
          "scattergeo": [
           {
            "marker": {
             "colorbar": {
              "outlinewidth": 0,
              "ticks": ""
             }
            },
            "type": "scattergeo"
           }
          ],
          "scattergl": [
           {
            "marker": {
             "colorbar": {
              "outlinewidth": 0,
              "ticks": ""
             }
            },
            "type": "scattergl"
           }
          ],
          "scattermapbox": [
           {
            "marker": {
             "colorbar": {
              "outlinewidth": 0,
              "ticks": ""
             }
            },
            "type": "scattermapbox"
           }
          ],
          "scatterpolar": [
           {
            "marker": {
             "colorbar": {
              "outlinewidth": 0,
              "ticks": ""
             }
            },
            "type": "scatterpolar"
           }
          ],
          "scatterpolargl": [
           {
            "marker": {
             "colorbar": {
              "outlinewidth": 0,
              "ticks": ""
             }
            },
            "type": "scatterpolargl"
           }
          ],
          "scatterternary": [
           {
            "marker": {
             "colorbar": {
              "outlinewidth": 0,
              "ticks": ""
             }
            },
            "type": "scatterternary"
           }
          ],
          "surface": [
           {
            "colorbar": {
             "outlinewidth": 0,
             "ticks": ""
            },
            "colorscale": [
             [
              0,
              "#0d0887"
             ],
             [
              0.1111111111111111,
              "#46039f"
             ],
             [
              0.2222222222222222,
              "#7201a8"
             ],
             [
              0.3333333333333333,
              "#9c179e"
             ],
             [
              0.4444444444444444,
              "#bd3786"
             ],
             [
              0.5555555555555556,
              "#d8576b"
             ],
             [
              0.6666666666666666,
              "#ed7953"
             ],
             [
              0.7777777777777778,
              "#fb9f3a"
             ],
             [
              0.8888888888888888,
              "#fdca26"
             ],
             [
              1,
              "#f0f921"
             ]
            ],
            "type": "surface"
           }
          ],
          "table": [
           {
            "cells": {
             "fill": {
              "color": "#EBF0F8"
             },
             "line": {
              "color": "white"
             }
            },
            "header": {
             "fill": {
              "color": "#C8D4E3"
             },
             "line": {
              "color": "white"
             }
            },
            "type": "table"
           }
          ]
         },
         "layout": {
          "annotationdefaults": {
           "arrowcolor": "#2a3f5f",
           "arrowhead": 0,
           "arrowwidth": 1
          },
          "autotypenumbers": "strict",
          "coloraxis": {
           "colorbar": {
            "outlinewidth": 0,
            "ticks": ""
           }
          },
          "colorscale": {
           "diverging": [
            [
             0,
             "#8e0152"
            ],
            [
             0.1,
             "#c51b7d"
            ],
            [
             0.2,
             "#de77ae"
            ],
            [
             0.3,
             "#f1b6da"
            ],
            [
             0.4,
             "#fde0ef"
            ],
            [
             0.5,
             "#f7f7f7"
            ],
            [
             0.6,
             "#e6f5d0"
            ],
            [
             0.7,
             "#b8e186"
            ],
            [
             0.8,
             "#7fbc41"
            ],
            [
             0.9,
             "#4d9221"
            ],
            [
             1,
             "#276419"
            ]
           ],
           "sequential": [
            [
             0,
             "#0d0887"
            ],
            [
             0.1111111111111111,
             "#46039f"
            ],
            [
             0.2222222222222222,
             "#7201a8"
            ],
            [
             0.3333333333333333,
             "#9c179e"
            ],
            [
             0.4444444444444444,
             "#bd3786"
            ],
            [
             0.5555555555555556,
             "#d8576b"
            ],
            [
             0.6666666666666666,
             "#ed7953"
            ],
            [
             0.7777777777777778,
             "#fb9f3a"
            ],
            [
             0.8888888888888888,
             "#fdca26"
            ],
            [
             1,
             "#f0f921"
            ]
           ],
           "sequentialminus": [
            [
             0,
             "#0d0887"
            ],
            [
             0.1111111111111111,
             "#46039f"
            ],
            [
             0.2222222222222222,
             "#7201a8"
            ],
            [
             0.3333333333333333,
             "#9c179e"
            ],
            [
             0.4444444444444444,
             "#bd3786"
            ],
            [
             0.5555555555555556,
             "#d8576b"
            ],
            [
             0.6666666666666666,
             "#ed7953"
            ],
            [
             0.7777777777777778,
             "#fb9f3a"
            ],
            [
             0.8888888888888888,
             "#fdca26"
            ],
            [
             1,
             "#f0f921"
            ]
           ]
          },
          "colorway": [
           "#636efa",
           "#EF553B",
           "#00cc96",
           "#ab63fa",
           "#FFA15A",
           "#19d3f3",
           "#FF6692",
           "#B6E880",
           "#FF97FF",
           "#FECB52"
          ],
          "font": {
           "color": "#2a3f5f"
          },
          "geo": {
           "bgcolor": "white",
           "lakecolor": "white",
           "landcolor": "#E5ECF6",
           "showlakes": true,
           "showland": true,
           "subunitcolor": "white"
          },
          "hoverlabel": {
           "align": "left"
          },
          "hovermode": "closest",
          "mapbox": {
           "style": "light"
          },
          "paper_bgcolor": "white",
          "plot_bgcolor": "#E5ECF6",
          "polar": {
           "angularaxis": {
            "gridcolor": "white",
            "linecolor": "white",
            "ticks": ""
           },
           "bgcolor": "#E5ECF6",
           "radialaxis": {
            "gridcolor": "white",
            "linecolor": "white",
            "ticks": ""
           }
          },
          "scene": {
           "xaxis": {
            "backgroundcolor": "#E5ECF6",
            "gridcolor": "white",
            "gridwidth": 2,
            "linecolor": "white",
            "showbackground": true,
            "ticks": "",
            "zerolinecolor": "white"
           },
           "yaxis": {
            "backgroundcolor": "#E5ECF6",
            "gridcolor": "white",
            "gridwidth": 2,
            "linecolor": "white",
            "showbackground": true,
            "ticks": "",
            "zerolinecolor": "white"
           },
           "zaxis": {
            "backgroundcolor": "#E5ECF6",
            "gridcolor": "white",
            "gridwidth": 2,
            "linecolor": "white",
            "showbackground": true,
            "ticks": "",
            "zerolinecolor": "white"
           }
          },
          "shapedefaults": {
           "line": {
            "color": "#2a3f5f"
           }
          },
          "ternary": {
           "aaxis": {
            "gridcolor": "white",
            "linecolor": "white",
            "ticks": ""
           },
           "baxis": {
            "gridcolor": "white",
            "linecolor": "white",
            "ticks": ""
           },
           "bgcolor": "#E5ECF6",
           "caxis": {
            "gridcolor": "white",
            "linecolor": "white",
            "ticks": ""
           }
          },
          "title": {
           "x": 0.05
          },
          "xaxis": {
           "automargin": true,
           "gridcolor": "white",
           "linecolor": "white",
           "ticks": "",
           "title": {
            "standoff": 15
           },
           "zerolinecolor": "white",
           "zerolinewidth": 2
          },
          "yaxis": {
           "automargin": true,
           "gridcolor": "white",
           "linecolor": "white",
           "ticks": "",
           "title": {
            "standoff": 15
           },
           "zerolinecolor": "white",
           "zerolinewidth": 2
          }
         }
        },
        "width": 1200,
        "xaxis": {
         "anchor": "y",
         "domain": [
          0,
          0.45
         ],
         "gridcolor": "lightgray",
         "showgrid": true,
         "title": {
          "text": "Quantity (2012=100)"
         },
         "zeroline": false
        },
        "xaxis2": {
         "anchor": "y2",
         "domain": [
          0.55,
          1
         ],
         "gridcolor": "lightgray",
         "showgrid": true,
         "title": {
          "text": "Quantity (2012=100)"
         },
         "zeroline": false
        },
        "yaxis": {
         "anchor": "x",
         "domain": [
          0,
          1
         ],
         "gridcolor": "lightgray",
         "showgrid": true,
         "title": {
          "text": "Price (2012=100)"
         },
         "zeroline": false
        },
        "yaxis2": {
         "anchor": "x2",
         "domain": [
          0,
          1
         ],
         "gridcolor": "lightgray",
         "showgrid": true,
         "zeroline": false
        }
       }
      }
     },
     "metadata": {},
     "output_type": "display_data"
    }
   ],
   "source": [
    "fig = make_subplots(rows=1, cols=2,\n",
    "                    subplot_titles=(\"Goods\", \"Services\"),\n",
    "                    column_widths=[0.5, 0.5],\n",
    "                    horizontal_spacing=0.1,\n",
    "                    specs=[[{\"type\": \"scatter\"}, {\"type\": \"scatter\"}]],\n",
    "                    )\n",
    "\n",
    "fig.add_trace(\n",
    "    go.Scatter(x=df_pq_latest['Quantity (goods)'],\n",
    "               y=df_pq_latest['Price (goods)'],\n",
    "               mode='lines+markers+text',\n",
    "               name='goods',\n",
    "               # text=df_pq_latest.index,\n",
    "               text=[index if i%2==0 else '' for i, index in enumerate(df_pq_latest.index)],\n",
    "               textposition=\"top center\",\n",
    "               textfont=dict(size=10),\n",
    "               marker=dict(size=8, line=dict(width=1, color=\"black\")),\n",
    "               showlegend=False),\n",
    "    row=1, col=1\n",
    ")\n",
    "\n",
    "fig.update_xaxes(title_text=\"Quantity (2012=100)\",\n",
    "                 showgrid=True, gridcolor='lightgray', zeroline=False,\n",
    "                 row=1, col=1)\n",
    "fig.update_yaxes(title_text=\"Price (2012=100)\",\n",
    "                 showgrid=True, gridcolor='lightgray', zeroline=False,\n",
    "                 row=1, col=1)\n",
    "\n",
    "fig.add_trace(\n",
    "    go.Scatter(x=df_pq_latest['Quantity (services)'],\n",
    "               y=df_pq_latest['Price (services)'],\n",
    "               mode='lines+markers+text',\n",
    "               name='services',\n",
    "            #    text=df_pq_latest.index,\n",
    "               text=[index if i%2==0 else '' for i, index in enumerate(df_pq_latest.index)],\n",
    "               textposition=\"top left\",\n",
    "               textfont=dict(size=10),\n",
    "               marker=dict(size=8, line=dict(width=1, color=\"black\")),\n",
    "               showlegend=False),\n",
    "    row=1, col=2\n",
    ")\n",
    "\n",
    "fig.update_xaxes(title_text=\"Quantity (2012=100)\",\n",
    "                 showgrid=True, gridcolor='lightgray', zeroline=False,\n",
    "                 row=1, col=2)\n",
    "fig.update_yaxes(showgrid=True, gridcolor='lightgray', zeroline=False,\n",
    "                 row=1, col=2)\n",
    "\n",
    "\n",
    "fig.update_layout(height=500, width=1200,\n",
    "                  margin=dict(l=50, r=50, t=50, b=50),\n",
    "                  font=dict(family=\"Arial\", size=12, color=\"black\"),\n",
    "                  plot_bgcolor='white',\n",
    "                  )\n",
    "fig.show()"
   ]
  }
 ],
 "metadata": {
  "kernelspec": {
   "display_name": "base",
   "language": "python",
   "name": "python3"
  },
  "language_info": {
   "codemirror_mode": {
    "name": "ipython",
    "version": 3
   },
   "file_extension": ".py",
   "mimetype": "text/x-python",
   "name": "python",
   "nbconvert_exporter": "python",
   "pygments_lexer": "ipython3",
   "version": "3.9.7"
  },
  "orig_nbformat": 4
 },
 "nbformat": 4,
 "nbformat_minor": 2
}
