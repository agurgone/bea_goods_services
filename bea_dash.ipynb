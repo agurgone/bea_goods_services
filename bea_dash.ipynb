{
 "cells": [
  {
   "cell_type": "code",
   "execution_count": 24,
   "metadata": {},
   "outputs": [],
   "source": [
    "import dash\n",
    "from dash import dcc, html\n",
    "from dash.dependencies import Input, Output\n",
    "import pandas as pd\n",
    "import requests\n",
    "import plotly.express as px\n",
    "from plotly.subplots import make_subplots\n",
    "import plotly.graph_objs as go"
   ]
  },
  {
   "cell_type": "code",
   "execution_count": 25,
   "metadata": {},
   "outputs": [],
   "source": [
    "# to be moved into a config file\n",
    "user_id = '9452074C-9BA9-4108-B38D-55B924516C1C'"
   ]
  },
  {
   "cell_type": "code",
   "execution_count": 26,
   "metadata": {},
   "outputs": [],
   "source": [
    "# Define function to fetch data based on selected date\n",
    "def fetch_data(user_id, table_name):\n",
    "    parameters = {\n",
    "        \"UserID\": user_id,\n",
    "        \"Method\": \"GetData\",\n",
    "        \"Datasetname\": \"NIPA\",\n",
    "        \"TableName\": table_name,\n",
    "        \"Frequency\": \"Q\",\n",
    "        \"Year\": \"ALL\",\n",
    "        \"ResultFormat\": \"JSON\"\n",
    "    }\n",
    "    response = requests.get('https://apps.bea.gov/api/data/', params=parameters)\n",
    "    data = response.json()[\"BEAAPI\"][\"Results\"][\"Data\"]\n",
    "    df = pd.DataFrame(data)\n",
    "    df[\"DataValue\"] = pd.to_numeric(df[\"DataValue\"])\n",
    "    df = df.pivot_table(index=\"TimePeriod\", columns=\"LineDescription\", values=\"DataValue\")\n",
    "    return df\n"
   ]
  },
  {
   "cell_type": "code",
   "execution_count": 29,
   "metadata": {},
   "outputs": [
    {
     "name": "stdout",
     "output_type": "stream",
     "text": [
      "0\n",
      "2009-10-01 00:00:00\n",
      "1\n",
      "2010-01-01 00:00:00\n",
      "2\n",
      "2010-04-01 00:00:00\n",
      "3\n",
      "2010-07-01 00:00:00\n",
      "4\n",
      "2010-10-01 00:00:00\n",
      "5\n",
      "2011-01-01 00:00:00\n",
      "6\n",
      "2011-04-01 00:00:00\n",
      "7\n",
      "2011-07-01 00:00:00\n",
      "8\n",
      "2011-10-01 00:00:00\n",
      "9\n",
      "2012-01-01 00:00:00\n",
      "10\n",
      "2012-04-01 00:00:00\n",
      "11\n",
      "2012-07-01 00:00:00\n",
      "12\n",
      "2012-10-01 00:00:00\n",
      "13\n",
      "2013-01-01 00:00:00\n",
      "14\n",
      "2013-04-01 00:00:00\n",
      "15\n",
      "2013-07-01 00:00:00\n",
      "16\n",
      "2013-10-01 00:00:00\n",
      "17\n",
      "2014-01-01 00:00:00\n",
      "18\n",
      "2014-04-01 00:00:00\n",
      "19\n",
      "2014-07-01 00:00:00\n",
      "20\n",
      "2014-10-01 00:00:00\n",
      "21\n",
      "2015-01-01 00:00:00\n",
      "22\n",
      "2015-04-01 00:00:00\n",
      "23\n",
      "2015-07-01 00:00:00\n",
      "24\n",
      "2015-10-01 00:00:00\n",
      "25\n",
      "2016-01-01 00:00:00\n",
      "26\n",
      "2016-04-01 00:00:00\n",
      "27\n",
      "2016-07-01 00:00:00\n",
      "28\n",
      "2016-10-01 00:00:00\n",
      "29\n",
      "2017-01-01 00:00:00\n",
      "30\n",
      "2017-04-01 00:00:00\n",
      "31\n",
      "2017-07-01 00:00:00\n",
      "32\n",
      "2017-10-01 00:00:00\n",
      "33\n",
      "2018-01-01 00:00:00\n",
      "34\n",
      "2018-04-01 00:00:00\n",
      "35\n",
      "2018-07-01 00:00:00\n",
      "36\n",
      "2018-10-01 00:00:00\n",
      "37\n",
      "2019-01-01 00:00:00\n",
      "38\n",
      "2019-04-01 00:00:00\n",
      "39\n",
      "2019-07-01 00:00:00\n",
      "40\n",
      "2019-10-01 00:00:00\n",
      "41\n",
      "2020-01-01 00:00:00\n",
      "42\n",
      "2020-04-01 00:00:00\n",
      "43\n",
      "2020-07-01 00:00:00\n",
      "44\n",
      "2020-10-01 00:00:00\n",
      "45\n",
      "2021-01-01 00:00:00\n",
      "46\n",
      "2021-04-01 00:00:00\n",
      "47\n",
      "2021-07-01 00:00:00\n",
      "48\n",
      "2021-10-01 00:00:00\n",
      "49\n",
      "2022-01-01 00:00:00\n",
      "50\n",
      "2022-04-01 00:00:00\n",
      "51\n",
      "2022-07-01 00:00:00\n",
      "52\n",
      "2022-10-01 00:00:00\n",
      "0\n",
      "<bound method Timestamp.date of Timestamp('2009-10-01 00:00:00')>\n",
      "1\n",
      "<bound method Timestamp.date of Timestamp('2010-01-01 00:00:00')>\n",
      "2\n",
      "<bound method Timestamp.date of Timestamp('2010-04-01 00:00:00')>\n",
      "3\n",
      "<bound method Timestamp.date of Timestamp('2010-07-01 00:00:00')>\n",
      "4\n",
      "<bound method Timestamp.date of Timestamp('2010-10-01 00:00:00')>\n",
      "5\n",
      "<bound method Timestamp.date of Timestamp('2011-01-01 00:00:00')>\n",
      "6\n",
      "<bound method Timestamp.date of Timestamp('2011-04-01 00:00:00')>\n",
      "7\n",
      "<bound method Timestamp.date of Timestamp('2011-07-01 00:00:00')>\n",
      "8\n",
      "<bound method Timestamp.date of Timestamp('2011-10-01 00:00:00')>\n",
      "9\n",
      "<bound method Timestamp.date of Timestamp('2012-01-01 00:00:00')>\n",
      "10\n",
      "<bound method Timestamp.date of Timestamp('2012-04-01 00:00:00')>\n",
      "11\n",
      "<bound method Timestamp.date of Timestamp('2012-07-01 00:00:00')>\n",
      "12\n",
      "<bound method Timestamp.date of Timestamp('2012-10-01 00:00:00')>\n",
      "13\n",
      "<bound method Timestamp.date of Timestamp('2013-01-01 00:00:00')>\n",
      "14\n",
      "<bound method Timestamp.date of Timestamp('2013-04-01 00:00:00')>\n",
      "15\n",
      "<bound method Timestamp.date of Timestamp('2013-07-01 00:00:00')>\n",
      "16\n",
      "<bound method Timestamp.date of Timestamp('2013-10-01 00:00:00')>\n",
      "17\n",
      "<bound method Timestamp.date of Timestamp('2014-01-01 00:00:00')>\n",
      "18\n",
      "<bound method Timestamp.date of Timestamp('2014-04-01 00:00:00')>\n",
      "19\n",
      "<bound method Timestamp.date of Timestamp('2014-07-01 00:00:00')>\n",
      "20\n",
      "<bound method Timestamp.date of Timestamp('2014-10-01 00:00:00')>\n",
      "21\n",
      "<bound method Timestamp.date of Timestamp('2015-01-01 00:00:00')>\n",
      "22\n",
      "<bound method Timestamp.date of Timestamp('2015-04-01 00:00:00')>\n",
      "23\n",
      "<bound method Timestamp.date of Timestamp('2015-07-01 00:00:00')>\n",
      "24\n",
      "<bound method Timestamp.date of Timestamp('2015-10-01 00:00:00')>\n",
      "25\n",
      "<bound method Timestamp.date of Timestamp('2016-01-01 00:00:00')>\n",
      "26\n",
      "<bound method Timestamp.date of Timestamp('2016-04-01 00:00:00')>\n",
      "27\n",
      "<bound method Timestamp.date of Timestamp('2016-07-01 00:00:00')>\n",
      "28\n",
      "<bound method Timestamp.date of Timestamp('2016-10-01 00:00:00')>\n",
      "29\n",
      "<bound method Timestamp.date of Timestamp('2017-01-01 00:00:00')>\n",
      "30\n",
      "<bound method Timestamp.date of Timestamp('2017-04-01 00:00:00')>\n",
      "31\n",
      "<bound method Timestamp.date of Timestamp('2017-07-01 00:00:00')>\n",
      "32\n",
      "<bound method Timestamp.date of Timestamp('2017-10-01 00:00:00')>\n",
      "33\n",
      "<bound method Timestamp.date of Timestamp('2018-01-01 00:00:00')>\n",
      "34\n",
      "<bound method Timestamp.date of Timestamp('2018-04-01 00:00:00')>\n",
      "35\n",
      "<bound method Timestamp.date of Timestamp('2018-07-01 00:00:00')>\n",
      "36\n",
      "<bound method Timestamp.date of Timestamp('2018-10-01 00:00:00')>\n",
      "37\n",
      "<bound method Timestamp.date of Timestamp('2019-01-01 00:00:00')>\n",
      "38\n",
      "<bound method Timestamp.date of Timestamp('2019-04-01 00:00:00')>\n",
      "39\n",
      "<bound method Timestamp.date of Timestamp('2019-07-01 00:00:00')>\n",
      "40\n",
      "<bound method Timestamp.date of Timestamp('2019-10-01 00:00:00')>\n",
      "41\n",
      "<bound method Timestamp.date of Timestamp('2020-01-01 00:00:00')>\n",
      "42\n",
      "<bound method Timestamp.date of Timestamp('2020-04-01 00:00:00')>\n",
      "43\n",
      "<bound method Timestamp.date of Timestamp('2020-07-01 00:00:00')>\n",
      "44\n",
      "<bound method Timestamp.date of Timestamp('2020-10-01 00:00:00')>\n",
      "45\n",
      "<bound method Timestamp.date of Timestamp('2021-01-01 00:00:00')>\n",
      "46\n",
      "<bound method Timestamp.date of Timestamp('2021-04-01 00:00:00')>\n",
      "47\n",
      "<bound method Timestamp.date of Timestamp('2021-07-01 00:00:00')>\n",
      "48\n",
      "<bound method Timestamp.date of Timestamp('2021-10-01 00:00:00')>\n",
      "49\n",
      "<bound method Timestamp.date of Timestamp('2022-01-01 00:00:00')>\n",
      "50\n",
      "<bound method Timestamp.date of Timestamp('2022-04-01 00:00:00')>\n",
      "51\n",
      "<bound method Timestamp.date of Timestamp('2022-07-01 00:00:00')>\n",
      "52\n",
      "<bound method Timestamp.date of Timestamp('2022-10-01 00:00:00')>\n",
      "0\n",
      "2009-10-01\n",
      "1\n",
      "2010-01-01\n",
      "2\n",
      "2010-04-01\n",
      "3\n",
      "2010-07-01\n",
      "4\n",
      "2010-10-01\n",
      "5\n",
      "2011-01-01\n",
      "6\n",
      "2011-04-01\n",
      "7\n",
      "2011-07-01\n",
      "8\n",
      "2011-10-01\n",
      "9\n",
      "2012-01-01\n",
      "10\n",
      "2012-04-01\n",
      "11\n",
      "2012-07-01\n",
      "12\n",
      "2012-10-01\n",
      "13\n",
      "2013-01-01\n",
      "14\n",
      "2013-04-01\n",
      "15\n",
      "2013-07-01\n",
      "16\n",
      "2013-10-01\n",
      "17\n",
      "2014-01-01\n",
      "18\n",
      "2014-04-01\n",
      "19\n",
      "2014-07-01\n",
      "20\n",
      "2014-10-01\n",
      "21\n",
      "2015-01-01\n",
      "22\n",
      "2015-04-01\n",
      "23\n",
      "2015-07-01\n",
      "24\n",
      "2015-10-01\n",
      "25\n",
      "2016-01-01\n",
      "26\n",
      "2016-04-01\n",
      "27\n",
      "2016-07-01\n",
      "28\n",
      "2016-10-01\n",
      "29\n",
      "2017-01-01\n",
      "30\n",
      "2017-04-01\n",
      "31\n",
      "2017-07-01\n",
      "32\n",
      "2017-10-01\n",
      "33\n",
      "2018-01-01\n",
      "34\n",
      "2018-04-01\n",
      "35\n",
      "2018-07-01\n",
      "36\n",
      "2018-10-01\n",
      "37\n",
      "2019-01-01\n",
      "38\n",
      "2019-04-01\n",
      "39\n",
      "2019-07-01\n",
      "40\n",
      "2019-10-01\n",
      "41\n",
      "2020-01-01\n",
      "42\n",
      "2020-04-01\n",
      "43\n",
      "2020-07-01\n",
      "44\n",
      "2020-10-01\n",
      "45\n",
      "2021-01-01\n",
      "46\n",
      "2021-04-01\n",
      "47\n",
      "2021-07-01\n",
      "48\n",
      "2021-10-01\n",
      "49\n",
      "2022-01-01\n",
      "50\n",
      "2022-04-01\n",
      "51\n",
      "2022-07-01\n",
      "52\n",
      "2022-10-01\n"
     ]
    }
   ],
   "source": [
    "# Fetch initial data to set min/max dates for the date picker\n",
    "df_quantity = fetch_data(user_id, 'T20303')\n",
    "df_price = fetch_data(user_id, 'T20304')\n",
    "\n",
    "# Create a df for quantity and prices of goods and services\n",
    "df_pq = df_quantity[['Goods', 'Services']]\n",
    "df_pq = df_pq.rename(columns = {'Goods': 'Quantity (goods)', 'Services': 'Quantity (services)'})\n",
    "df_pq['Price (goods)'] = df_price['Goods']\n",
    "df_pq['Price (services)'] = df_price['Services']\n",
    "df_pq.index = pd.PeriodIndex(df_pq.index, freq='Q').to_timestamp()\n",
    "# df_pq.index = pd.to_datetime(df_pq.index)\n",
    "\n",
    "\n",
    "# Define app layout\n",
    "app = dash.Dash(__name__)\n",
    "\n",
    "app.layout = html.Div([\n",
    "    html.H1(\"Price and Quantities\"),\n",
    "    html.Div([\n",
    "        html.Label(\"Start Date:\"),\n",
    "        dcc.DatePickerSingle(\n",
    "            id=\"start-date-picker\",\n",
    "            min_date_allowed=df_pq.index.min(),\n",
    "            max_date_allowed=df_pq.index.max(),\n",
    "            initial_visible_month=df_pq.index[0],\n",
    "            date='2010-01-01'  # Set default start date\n",
    "\n",
    "        ),\n",
    "        html.Label(\"End Date:\"),\n",
    "        dcc.DatePickerSingle(\n",
    "            id=\"end-date-picker\",\n",
    "            min_date_allowed=df_pq.index.min(),\n",
    "            max_date_allowed=df_pq.index.max(),\n",
    "            initial_visible_month=df_pq.index[-1],\n",
    "            date=df_pq.index.max().strftime('%Y-%m-%d') # Set default start date\n",
    "        )\n",
    "    ]),\n",
    "    dcc.Graph(id=\"price-quantity-graph\")\n",
    "])\n",
    "\n",
    "# Define callback to update graph based on selected dates\n",
    "@app.callback(\n",
    "    Output(\"price-quantity-graph\", \"figure\"),\n",
    "    [Input(\"start-date-picker\", \"date\"), Input(\"end-date-picker\", \"date\")]\n",
    ")\n",
    "def update_graph(start_date, end_date):\n",
    "    df_quantity = fetch_data(user_id, 'T20303')\n",
    "    df_price = fetch_data(user_id, 'T20304')\n",
    "\n",
    "    # Create a df for quantity and prices of goods and services\n",
    "    df_pq = df_quantity[['Goods', 'Services']]\n",
    "    df_pq = df_pq.rename(columns = {'Goods': 'Quantity (goods)', 'Services': 'Quantity (services)'})\n",
    "    df_pq['Price (goods)'] = df_price['Goods']\n",
    "    df_pq['Price (services)'] = df_price['Services']\n",
    "    df_pq.index = pd.PeriodIndex(df_pq.index, freq='Q').to_timestamp()\n",
    "    \n",
    "    # Filter data based on selected dates\n",
    "    if start_date is not None and end_date is not None:\n",
    "        df_pq_latest = df_pq.loc[start_date:end_date]\n",
    "    else:\n",
    "        df_pq_latest = df_pq  # Keep all data if no dates selected\n",
    "    \n",
    "    fig = make_subplots(rows=1, cols=2,\n",
    "                        subplot_titles=(\"Goods\", \"Services\"),\n",
    "                        column_widths=[0.5, 0.5],\n",
    "                        horizontal_spacing=0.1,\n",
    "                        specs=[[{\"type\": \"scatter\"}, {\"type\": \"scatter\"}]],\n",
    "                        )\n",
    "    \n",
    "    fig.add_trace(\n",
    "        go.Scatter(x=df_pq_latest['Quantity (goods)'],\n",
    "                   y=df_pq_latest['Price (goods)'],\n",
    "                   mode='lines+markers+text',\n",
    "                   name='goods',\n",
    "                   # text=df_pq_latest.index,\n",
    "                   text=[index.date() if i%2==0 else '' for i, index in enumerate(df_pq_latest.index)],\n",
    "                   textposition=\"top center\",\n",
    "                   textfont=dict(size=10),\n",
    "                   marker=dict(size=8, line=dict(width=1, color=\"black\")),\n",
    "                   showlegend=False),\n",
    "        row=1, col=1\n",
    "        )\n",
    "  \n",
    "    fig.update_xaxes(title_text=\"Quantity\",\n",
    "                   showgrid=True, gridcolor='lightgray', zeroline=False,\n",
    "                   row=1, col=1)\n",
    "    \n",
    "    fig.update_yaxes(title_text=\"Price (2012=100)\",\n",
    "                   showgrid=True, gridcolor='lightgray', zeroline=False,\n",
    "                   row=1, col=1)\n",
    "\n",
    "    fig.add_trace(\n",
    "        go.Scatter(x=df_pq_latest['Quantity (services)'],\n",
    "                   y=df_pq_latest['Price (services)'],\n",
    "                   mode='lines+markers+text',\n",
    "                   name='services',\n",
    "                   # text=df_pq_latest.index,\n",
    "                   text=[index.date() if i%2==0 else '' for i, index in enumerate(df_pq_latest.index)],\n",
    "                   textposition=\"top left\",\n",
    "                   textfont=dict(size=10),\n",
    "                   marker=dict(size=8, line=dict(width=1, color=\"black\")),\n",
    "                   showlegend=False),\n",
    "        row=1, col=2\n",
    "        )\n",
    "\n",
    "    fig.update_xaxes(title_text=\"Quantity\",\n",
    "                   showgrid=True, gridcolor='lightgray', zeroline=False,\n",
    "                   row=1, col=2)\n",
    "    fig.update_yaxes(title_text=\"Price\",\n",
    "                    showgrid=True, gridcolor='lightgray', zeroline=False,\n",
    "                    row=1, col=2)\n",
    "\n",
    "    fig.update_layout(height=800, width=1200,\n",
    "                    title_x=0.5, title_y=0.97,\n",
    "                    margin=dict(l=50, r=50, t=50, b=50),\n",
    "                    title_text=\"Price and Quantities\",\n",
    "                    font=dict(family=\"Arial\", size=12, color=\"black\"),\n",
    "                    plot_bgcolor='white',\n",
    "                    )\n",
    "    \n",
    "    return fig\n",
    "\n",
    "update_graph('2010Q1', '2023Q1')"
   ]
  },
  {
   "cell_type": "code",
   "execution_count": 28,
   "metadata": {},
   "outputs": [
    {
     "data": {
      "application/vnd.plotly.v1+json": {
       "config": {
        "plotlyServerURL": "https://plot.ly"
       },
       "data": [
        {
         "marker": {
          "line": {
           "color": "black",
           "width": 1
          },
          "size": 8
         },
         "mode": "lines+markers+text",
         "name": "goods",
         "showlegend": false,
         "text": [
          "2009-10-01 00:00:00",
          "",
          "2010-04-01 00:00:00",
          "",
          "2010-10-01 00:00:00",
          "",
          "2011-04-01 00:00:00",
          "",
          "2011-10-01 00:00:00",
          "",
          "2012-04-01 00:00:00",
          "",
          "2012-10-01 00:00:00",
          "",
          "2013-04-01 00:00:00",
          "",
          "2013-10-01 00:00:00",
          "",
          "2014-04-01 00:00:00",
          "",
          "2014-10-01 00:00:00",
          "",
          "2015-04-01 00:00:00",
          "",
          "2015-10-01 00:00:00",
          "",
          "2016-04-01 00:00:00",
          "",
          "2016-10-01 00:00:00",
          "",
          "2017-04-01 00:00:00",
          "",
          "2017-10-01 00:00:00",
          "",
          "2018-04-01 00:00:00",
          "",
          "2018-10-01 00:00:00",
          "",
          "2019-04-01 00:00:00",
          "",
          "2019-10-01 00:00:00",
          "",
          "2020-04-01 00:00:00",
          "",
          "2020-10-01 00:00:00",
          "",
          "2021-04-01 00:00:00",
          "",
          "2021-10-01 00:00:00",
          "",
          "2022-04-01 00:00:00",
          "",
          "2022-10-01 00:00:00"
         ],
         "textfont": {
          "size": 10
         },
         "textposition": "top center",
         "type": "scatter",
         "x": [
          76.42,
          76.995,
          78.045,
          78.632,
          79.725,
          80.122,
          79.827,
          79.856,
          80.433,
          81.452,
          81.438,
          81.796,
          82.378,
          83.883,
          84.065,
          84.75,
          85.588,
          86.231,
          87.851,
          88.844,
          90.116,
          91.282,
          92.258,
          93.304,
          93.741,
          94.742,
          95.566,
          96.587,
          97.202,
          98.077,
          99.118,
          100.347,
          102.458,
          103.398,
          103.644,
          104.117,
          104.652,
          104.944,
          106.756,
          108.281,
          108.637,
          108.002,
          105.469,
          117.066,
          117.965,
          122.916,
          127.128,
          123.958,
          125.367,
          124.838,
          124.36,
          123.653,
          123.451
         ],
         "xaxis": "x",
         "y": [
          100.565,
          100.71,
          100.118,
          100.092,
          101.211,
          102.789,
          104.52,
          104.878,
          105.112,
          105.765,
          105.424,
          105.41,
          105.883,
          105.756,
          104.787,
          104.911,
          104.741,
          104.896,
          105.002,
          104.791,
          103.479,
          101.343,
          101.871,
          101.612,
          100.573,
          99.518,
          99.96,
          99.566,
          99.797,
          100.331,
          99.712,
          99.744,
          100.213,
          100.748,
          101.012,
          100.84,
          100.644,
          100.215,
          100.694,
          100.334,
          100.463,
          100.166,
          98.728,
          99.696,
          100.033,
          101.395,
          103.536,
          105.38,
          108.077,
          111.173,
          113.982,
          114.669,
          114.727
         ],
         "yaxis": "y"
        },
        {
         "marker": {
          "line": {
           "color": "black",
           "width": 1
          },
          "size": 8
         },
         "mode": "lines+markers+text",
         "name": "services",
         "showlegend": false,
         "text": [
          "2009-10-01 00:00:00",
          "",
          "2010-04-01 00:00:00",
          "",
          "2010-10-01 00:00:00",
          "",
          "2011-04-01 00:00:00",
          "",
          "2011-10-01 00:00:00",
          "",
          "2012-04-01 00:00:00",
          "",
          "2012-10-01 00:00:00",
          "",
          "2013-04-01 00:00:00",
          "",
          "2013-10-01 00:00:00",
          "",
          "2014-04-01 00:00:00",
          "",
          "2014-10-01 00:00:00",
          "",
          "2015-04-01 00:00:00",
          "",
          "2015-10-01 00:00:00",
          "",
          "2016-04-01 00:00:00",
          "",
          "2016-10-01 00:00:00",
          "",
          "2017-04-01 00:00:00",
          "",
          "2017-10-01 00:00:00",
          "",
          "2018-04-01 00:00:00",
          "",
          "2018-10-01 00:00:00",
          "",
          "2019-04-01 00:00:00",
          "",
          "2019-10-01 00:00:00",
          "",
          "2020-04-01 00:00:00",
          "",
          "2020-10-01 00:00:00",
          "",
          "2021-04-01 00:00:00",
          "",
          "2021-10-01 00:00:00",
          "",
          "2022-04-01 00:00:00",
          "",
          "2022-10-01 00:00:00"
         ],
         "textfont": {
          "size": 10
         },
         "textposition": "top left",
         "type": "scatter",
         "x": [
          87.595,
          88.032,
          88.628,
          89.244,
          89.459,
          89.748,
          90.047,
          90.439,
          90.352,
          90.762,
          91.009,
          91.088,
          91.313,
          91.382,
          91.675,
          91.865,
          92.625,
          92.782,
          93.26,
          94.116,
          95.074,
          95.565,
          96.05,
          96.53,
          96.895,
          97.485,
          97.799,
          98.31,
          98.761,
          99.459,
          99.693,
          100.11,
          100.737,
          101.376,
          102.062,
          102.535,
          102.761,
          102.869,
          103.335,
          104.364,
          105.197,
          102.875,
          90.88,
          98.154,
          99.86,
          101.17,
          104.52,
          107.148,
          108.289,
          108.924,
          110.195,
          111.145,
          111.738
         ],
         "xaxis": "x2",
         "y": [
          85.108,
          85.534,
          85.969,
          86.225,
          86.581,
          87.01,
          87.57,
          88.027,
          88.364,
          88.967,
          89.429,
          89.822,
          90.374,
          90.9,
          91.382,
          91.888,
          92.465,
          93.03,
          93.604,
          94.078,
          94.468,
          94.784,
          95.248,
          95.729,
          96.088,
          96.631,
          97.331,
          98.002,
          98.554,
          99.152,
          99.729,
          100.23,
          100.89,
          101.674,
          102.333,
          102.917,
          103.58,
          104.089,
          104.712,
          105.256,
          105.802,
          106.429,
          106.542,
          107.322,
          107.928,
          109.022,
          110.409,
          111.708,
          113.04,
          114.595,
          116.3,
          117.982,
          119.707
         ],
         "yaxis": "y2"
        }
       ],
       "layout": {
        "annotations": [
         {
          "font": {
           "size": 16
          },
          "showarrow": false,
          "text": "Goods",
          "x": 0.225,
          "xanchor": "center",
          "xref": "paper",
          "y": 1,
          "yanchor": "bottom",
          "yref": "paper"
         },
         {
          "font": {
           "size": 16
          },
          "showarrow": false,
          "text": "Services",
          "x": 0.775,
          "xanchor": "center",
          "xref": "paper",
          "y": 1,
          "yanchor": "bottom",
          "yref": "paper"
         }
        ],
        "font": {
         "color": "black",
         "family": "Arial",
         "size": 12
        },
        "height": 800,
        "margin": {
         "b": 50,
         "l": 50,
         "r": 50,
         "t": 50
        },
        "plot_bgcolor": "white",
        "template": {
         "data": {
          "bar": [
           {
            "error_x": {
             "color": "#2a3f5f"
            },
            "error_y": {
             "color": "#2a3f5f"
            },
            "marker": {
             "line": {
              "color": "#E5ECF6",
              "width": 0.5
             },
             "pattern": {
              "fillmode": "overlay",
              "size": 10,
              "solidity": 0.2
             }
            },
            "type": "bar"
           }
          ],
          "barpolar": [
           {
            "marker": {
             "line": {
              "color": "#E5ECF6",
              "width": 0.5
             },
             "pattern": {
              "fillmode": "overlay",
              "size": 10,
              "solidity": 0.2
             }
            },
            "type": "barpolar"
           }
          ],
          "carpet": [
           {
            "aaxis": {
             "endlinecolor": "#2a3f5f",
             "gridcolor": "white",
             "linecolor": "white",
             "minorgridcolor": "white",
             "startlinecolor": "#2a3f5f"
            },
            "baxis": {
             "endlinecolor": "#2a3f5f",
             "gridcolor": "white",
             "linecolor": "white",
             "minorgridcolor": "white",
             "startlinecolor": "#2a3f5f"
            },
            "type": "carpet"
           }
          ],
          "choropleth": [
           {
            "colorbar": {
             "outlinewidth": 0,
             "ticks": ""
            },
            "type": "choropleth"
           }
          ],
          "contour": [
           {
            "colorbar": {
             "outlinewidth": 0,
             "ticks": ""
            },
            "colorscale": [
             [
              0,
              "#0d0887"
             ],
             [
              0.1111111111111111,
              "#46039f"
             ],
             [
              0.2222222222222222,
              "#7201a8"
             ],
             [
              0.3333333333333333,
              "#9c179e"
             ],
             [
              0.4444444444444444,
              "#bd3786"
             ],
             [
              0.5555555555555556,
              "#d8576b"
             ],
             [
              0.6666666666666666,
              "#ed7953"
             ],
             [
              0.7777777777777778,
              "#fb9f3a"
             ],
             [
              0.8888888888888888,
              "#fdca26"
             ],
             [
              1,
              "#f0f921"
             ]
            ],
            "type": "contour"
           }
          ],
          "contourcarpet": [
           {
            "colorbar": {
             "outlinewidth": 0,
             "ticks": ""
            },
            "type": "contourcarpet"
           }
          ],
          "heatmap": [
           {
            "colorbar": {
             "outlinewidth": 0,
             "ticks": ""
            },
            "colorscale": [
             [
              0,
              "#0d0887"
             ],
             [
              0.1111111111111111,
              "#46039f"
             ],
             [
              0.2222222222222222,
              "#7201a8"
             ],
             [
              0.3333333333333333,
              "#9c179e"
             ],
             [
              0.4444444444444444,
              "#bd3786"
             ],
             [
              0.5555555555555556,
              "#d8576b"
             ],
             [
              0.6666666666666666,
              "#ed7953"
             ],
             [
              0.7777777777777778,
              "#fb9f3a"
             ],
             [
              0.8888888888888888,
              "#fdca26"
             ],
             [
              1,
              "#f0f921"
             ]
            ],
            "type": "heatmap"
           }
          ],
          "heatmapgl": [
           {
            "colorbar": {
             "outlinewidth": 0,
             "ticks": ""
            },
            "colorscale": [
             [
              0,
              "#0d0887"
             ],
             [
              0.1111111111111111,
              "#46039f"
             ],
             [
              0.2222222222222222,
              "#7201a8"
             ],
             [
              0.3333333333333333,
              "#9c179e"
             ],
             [
              0.4444444444444444,
              "#bd3786"
             ],
             [
              0.5555555555555556,
              "#d8576b"
             ],
             [
              0.6666666666666666,
              "#ed7953"
             ],
             [
              0.7777777777777778,
              "#fb9f3a"
             ],
             [
              0.8888888888888888,
              "#fdca26"
             ],
             [
              1,
              "#f0f921"
             ]
            ],
            "type": "heatmapgl"
           }
          ],
          "histogram": [
           {
            "marker": {
             "pattern": {
              "fillmode": "overlay",
              "size": 10,
              "solidity": 0.2
             }
            },
            "type": "histogram"
           }
          ],
          "histogram2d": [
           {
            "colorbar": {
             "outlinewidth": 0,
             "ticks": ""
            },
            "colorscale": [
             [
              0,
              "#0d0887"
             ],
             [
              0.1111111111111111,
              "#46039f"
             ],
             [
              0.2222222222222222,
              "#7201a8"
             ],
             [
              0.3333333333333333,
              "#9c179e"
             ],
             [
              0.4444444444444444,
              "#bd3786"
             ],
             [
              0.5555555555555556,
              "#d8576b"
             ],
             [
              0.6666666666666666,
              "#ed7953"
             ],
             [
              0.7777777777777778,
              "#fb9f3a"
             ],
             [
              0.8888888888888888,
              "#fdca26"
             ],
             [
              1,
              "#f0f921"
             ]
            ],
            "type": "histogram2d"
           }
          ],
          "histogram2dcontour": [
           {
            "colorbar": {
             "outlinewidth": 0,
             "ticks": ""
            },
            "colorscale": [
             [
              0,
              "#0d0887"
             ],
             [
              0.1111111111111111,
              "#46039f"
             ],
             [
              0.2222222222222222,
              "#7201a8"
             ],
             [
              0.3333333333333333,
              "#9c179e"
             ],
             [
              0.4444444444444444,
              "#bd3786"
             ],
             [
              0.5555555555555556,
              "#d8576b"
             ],
             [
              0.6666666666666666,
              "#ed7953"
             ],
             [
              0.7777777777777778,
              "#fb9f3a"
             ],
             [
              0.8888888888888888,
              "#fdca26"
             ],
             [
              1,
              "#f0f921"
             ]
            ],
            "type": "histogram2dcontour"
           }
          ],
          "mesh3d": [
           {
            "colorbar": {
             "outlinewidth": 0,
             "ticks": ""
            },
            "type": "mesh3d"
           }
          ],
          "parcoords": [
           {
            "line": {
             "colorbar": {
              "outlinewidth": 0,
              "ticks": ""
             }
            },
            "type": "parcoords"
           }
          ],
          "pie": [
           {
            "automargin": true,
            "type": "pie"
           }
          ],
          "scatter": [
           {
            "fillpattern": {
             "fillmode": "overlay",
             "size": 10,
             "solidity": 0.2
            },
            "type": "scatter"
           }
          ],
          "scatter3d": [
           {
            "line": {
             "colorbar": {
              "outlinewidth": 0,
              "ticks": ""
             }
            },
            "marker": {
             "colorbar": {
              "outlinewidth": 0,
              "ticks": ""
             }
            },
            "type": "scatter3d"
           }
          ],
          "scattercarpet": [
           {
            "marker": {
             "colorbar": {
              "outlinewidth": 0,
              "ticks": ""
             }
            },
            "type": "scattercarpet"
           }
          ],
          "scattergeo": [
           {
            "marker": {
             "colorbar": {
              "outlinewidth": 0,
              "ticks": ""
             }
            },
            "type": "scattergeo"
           }
          ],
          "scattergl": [
           {
            "marker": {
             "colorbar": {
              "outlinewidth": 0,
              "ticks": ""
             }
            },
            "type": "scattergl"
           }
          ],
          "scattermapbox": [
           {
            "marker": {
             "colorbar": {
              "outlinewidth": 0,
              "ticks": ""
             }
            },
            "type": "scattermapbox"
           }
          ],
          "scatterpolar": [
           {
            "marker": {
             "colorbar": {
              "outlinewidth": 0,
              "ticks": ""
             }
            },
            "type": "scatterpolar"
           }
          ],
          "scatterpolargl": [
           {
            "marker": {
             "colorbar": {
              "outlinewidth": 0,
              "ticks": ""
             }
            },
            "type": "scatterpolargl"
           }
          ],
          "scatterternary": [
           {
            "marker": {
             "colorbar": {
              "outlinewidth": 0,
              "ticks": ""
             }
            },
            "type": "scatterternary"
           }
          ],
          "surface": [
           {
            "colorbar": {
             "outlinewidth": 0,
             "ticks": ""
            },
            "colorscale": [
             [
              0,
              "#0d0887"
             ],
             [
              0.1111111111111111,
              "#46039f"
             ],
             [
              0.2222222222222222,
              "#7201a8"
             ],
             [
              0.3333333333333333,
              "#9c179e"
             ],
             [
              0.4444444444444444,
              "#bd3786"
             ],
             [
              0.5555555555555556,
              "#d8576b"
             ],
             [
              0.6666666666666666,
              "#ed7953"
             ],
             [
              0.7777777777777778,
              "#fb9f3a"
             ],
             [
              0.8888888888888888,
              "#fdca26"
             ],
             [
              1,
              "#f0f921"
             ]
            ],
            "type": "surface"
           }
          ],
          "table": [
           {
            "cells": {
             "fill": {
              "color": "#EBF0F8"
             },
             "line": {
              "color": "white"
             }
            },
            "header": {
             "fill": {
              "color": "#C8D4E3"
             },
             "line": {
              "color": "white"
             }
            },
            "type": "table"
           }
          ]
         },
         "layout": {
          "annotationdefaults": {
           "arrowcolor": "#2a3f5f",
           "arrowhead": 0,
           "arrowwidth": 1
          },
          "autotypenumbers": "strict",
          "coloraxis": {
           "colorbar": {
            "outlinewidth": 0,
            "ticks": ""
           }
          },
          "colorscale": {
           "diverging": [
            [
             0,
             "#8e0152"
            ],
            [
             0.1,
             "#c51b7d"
            ],
            [
             0.2,
             "#de77ae"
            ],
            [
             0.3,
             "#f1b6da"
            ],
            [
             0.4,
             "#fde0ef"
            ],
            [
             0.5,
             "#f7f7f7"
            ],
            [
             0.6,
             "#e6f5d0"
            ],
            [
             0.7,
             "#b8e186"
            ],
            [
             0.8,
             "#7fbc41"
            ],
            [
             0.9,
             "#4d9221"
            ],
            [
             1,
             "#276419"
            ]
           ],
           "sequential": [
            [
             0,
             "#0d0887"
            ],
            [
             0.1111111111111111,
             "#46039f"
            ],
            [
             0.2222222222222222,
             "#7201a8"
            ],
            [
             0.3333333333333333,
             "#9c179e"
            ],
            [
             0.4444444444444444,
             "#bd3786"
            ],
            [
             0.5555555555555556,
             "#d8576b"
            ],
            [
             0.6666666666666666,
             "#ed7953"
            ],
            [
             0.7777777777777778,
             "#fb9f3a"
            ],
            [
             0.8888888888888888,
             "#fdca26"
            ],
            [
             1,
             "#f0f921"
            ]
           ],
           "sequentialminus": [
            [
             0,
             "#0d0887"
            ],
            [
             0.1111111111111111,
             "#46039f"
            ],
            [
             0.2222222222222222,
             "#7201a8"
            ],
            [
             0.3333333333333333,
             "#9c179e"
            ],
            [
             0.4444444444444444,
             "#bd3786"
            ],
            [
             0.5555555555555556,
             "#d8576b"
            ],
            [
             0.6666666666666666,
             "#ed7953"
            ],
            [
             0.7777777777777778,
             "#fb9f3a"
            ],
            [
             0.8888888888888888,
             "#fdca26"
            ],
            [
             1,
             "#f0f921"
            ]
           ]
          },
          "colorway": [
           "#636efa",
           "#EF553B",
           "#00cc96",
           "#ab63fa",
           "#FFA15A",
           "#19d3f3",
           "#FF6692",
           "#B6E880",
           "#FF97FF",
           "#FECB52"
          ],
          "font": {
           "color": "#2a3f5f"
          },
          "geo": {
           "bgcolor": "white",
           "lakecolor": "white",
           "landcolor": "#E5ECF6",
           "showlakes": true,
           "showland": true,
           "subunitcolor": "white"
          },
          "hoverlabel": {
           "align": "left"
          },
          "hovermode": "closest",
          "mapbox": {
           "style": "light"
          },
          "paper_bgcolor": "white",
          "plot_bgcolor": "#E5ECF6",
          "polar": {
           "angularaxis": {
            "gridcolor": "white",
            "linecolor": "white",
            "ticks": ""
           },
           "bgcolor": "#E5ECF6",
           "radialaxis": {
            "gridcolor": "white",
            "linecolor": "white",
            "ticks": ""
           }
          },
          "scene": {
           "xaxis": {
            "backgroundcolor": "#E5ECF6",
            "gridcolor": "white",
            "gridwidth": 2,
            "linecolor": "white",
            "showbackground": true,
            "ticks": "",
            "zerolinecolor": "white"
           },
           "yaxis": {
            "backgroundcolor": "#E5ECF6",
            "gridcolor": "white",
            "gridwidth": 2,
            "linecolor": "white",
            "showbackground": true,
            "ticks": "",
            "zerolinecolor": "white"
           },
           "zaxis": {
            "backgroundcolor": "#E5ECF6",
            "gridcolor": "white",
            "gridwidth": 2,
            "linecolor": "white",
            "showbackground": true,
            "ticks": "",
            "zerolinecolor": "white"
           }
          },
          "shapedefaults": {
           "line": {
            "color": "#2a3f5f"
           }
          },
          "ternary": {
           "aaxis": {
            "gridcolor": "white",
            "linecolor": "white",
            "ticks": ""
           },
           "baxis": {
            "gridcolor": "white",
            "linecolor": "white",
            "ticks": ""
           },
           "bgcolor": "#E5ECF6",
           "caxis": {
            "gridcolor": "white",
            "linecolor": "white",
            "ticks": ""
           }
          },
          "title": {
           "x": 0.05
          },
          "xaxis": {
           "automargin": true,
           "gridcolor": "white",
           "linecolor": "white",
           "ticks": "",
           "title": {
            "standoff": 15
           },
           "zerolinecolor": "white",
           "zerolinewidth": 2
          },
          "yaxis": {
           "automargin": true,
           "gridcolor": "white",
           "linecolor": "white",
           "ticks": "",
           "title": {
            "standoff": 15
           },
           "zerolinecolor": "white",
           "zerolinewidth": 2
          }
         }
        },
        "title": {
         "text": "Price and Quantities",
         "x": 0.5,
         "y": 0.97
        },
        "width": 1200,
        "xaxis": {
         "anchor": "y",
         "domain": [
          0,
          0.45
         ],
         "gridcolor": "lightgray",
         "showgrid": true,
         "title": {
          "text": "Quantity"
         },
         "zeroline": false
        },
        "xaxis2": {
         "anchor": "y2",
         "domain": [
          0.55,
          1
         ],
         "gridcolor": "lightgray",
         "showgrid": true,
         "title": {
          "text": "Quantity"
         },
         "zeroline": false
        },
        "yaxis": {
         "anchor": "x",
         "domain": [
          0,
          1
         ],
         "gridcolor": "lightgray",
         "showgrid": true,
         "title": {
          "text": "Price (2012=100)"
         },
         "zeroline": false
        },
        "yaxis2": {
         "anchor": "x2",
         "domain": [
          0,
          1
         ],
         "gridcolor": "lightgray",
         "showgrid": true,
         "title": {
          "text": "Price"
         },
         "zeroline": false
        }
       }
      }
     },
     "metadata": {},
     "output_type": "display_data"
    }
   ],
   "source": []
  }
 ],
 "metadata": {
  "kernelspec": {
   "display_name": ".venv",
   "language": "python",
   "name": "python3"
  },
  "language_info": {
   "codemirror_mode": {
    "name": "ipython",
    "version": 3
   },
   "file_extension": ".py",
   "mimetype": "text/x-python",
   "name": "python",
   "nbconvert_exporter": "python",
   "pygments_lexer": "ipython3",
   "version": "3.9.6"
  }
 },
 "nbformat": 4,
 "nbformat_minor": 2
}
